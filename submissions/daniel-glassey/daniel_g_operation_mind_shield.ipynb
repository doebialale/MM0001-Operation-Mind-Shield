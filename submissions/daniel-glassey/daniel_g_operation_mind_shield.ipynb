{
  "cells": [
    {
      "cell_type": "markdown",
      "metadata": {
        "id": "i5x4kclUXBPk"
      },
      "source": [
        "# 🧠 Operation Mind Shield: Decoding Alzheimer's\n",
        "####  **Full Name:** Daniel Glassey\n",
        "####  **Link to SDS Profile:** https://community.superdatascience.com/u/140115de"
      ]
    },
    {
      "cell_type": "markdown",
      "metadata": {
        "id": "dlNYrPZek_Zr"
      },
      "source": [
        "## The assignment"
      ]
    },
    {
      "cell_type": "markdown",
      "metadata": {
        "id": "soLP1gC4lLEO"
      },
      "source": [
        "  Welcome to Operation Mind Shield, data science challenge initiated by SuperDataScience focused on predicting Alzheimer's Disease based on patient data. This mission is designed for data scientists of all\n",
        "  skill levels, with three different Assignments tailored to your expertise. Dive into the dataset, tackle the assignment that best matches your skills, and contribute to this collaborative project.\n",
        "\n",
        "\n",
        "\n",
        "\n",
        "\n"
      ]
    },
    {
      "cell_type": "markdown",
      "metadata": {
        "id": "jnJqUAeal5ot"
      },
      "source": [
        "###  📜 Mission Brief\n",
        "\n",
        "  In this mission, you will work with a dataset on Alzheimer's Disease patients. The goal is to build predictive models to determine the likelihood of a patient having Alzheimer's based on various features.\n",
        "  You'll progress through three phases depending on the assignment level you choose:\n",
        "  - Data Cleaning & Analysis\n",
        "  - Data Preprocessing & Feature Selection\n",
        "  - Model Selection & Fine-Tuning"
      ]
    },
    {
      "cell_type": "markdown",
      "metadata": {
        "id": "jCmJDNEvmZzK"
      },
      "source": [
        "### 🎯 Mission Objectives\n",
        "\n",
        "*   Predict whether a patient has Alzheimer's based on the available features.\n",
        "*   Clean and preprocess the data to improve the performance of your models.\n",
        "*   Train models that best suit your experience level, from simple to highly advanced.\n",
        "*   Evaluate your model's performance using appropriate validation techniques.\n",
        "*   (Advanced Level Only) Deploy your model using a Streamlit App."
      ]
    },
    {
      "cell_type": "markdown",
      "metadata": {
        "id": "oQDtj_DLnsE2"
      },
      "source": [
        "### 🏆 Assignments\n",
        "  1. Assignment 1: The Initiate (Beginner Level)\n",
        "  - Perform basic data cleaning.\n",
        "  - Build a simple linear model (e.g., Logistic Regression).\n",
        "  - Evaluate your model with a simple test set.\n",
        "\n",
        "  2. **Assignment 2: The Specialist (Intermediate Level)**\n",
        "  - **Conduct elaborate data cleaning with 1 feature selection step.**\n",
        "  - **Train more advanced models like Gradient Boosting.**\n",
        "  - **Use k-fold cross-validation for evaluation.**\n",
        "  - **Perform basic hyperparameter tuning.**\n",
        "\n",
        "  3. Assignment 3: The Operative (Advanced Level)\n",
        "  - Engage in advanced data preprocessing (looping feature selection and feature extraction using PCA/LDA).\n",
        "  - Build ensemble models using powerful frameworks (e.g., SageMaker, Azure Machine Learning).\n",
        "  - Perform extensive hyperparameter tuning.\n",
        "  - Evaluate using k-fold cross-validation.\n",
        "  - Deploy your model through a Streamlit App."
      ]
    },
    {
      "cell_type": "markdown",
      "metadata": {
        "id": "oULnExx_RWSb"
      },
      "source": [
        "## The Dataset"
      ]
    },
    {
      "cell_type": "markdown",
      "metadata": {
        "id": "dhxEv9kYzCGV"
      },
      "source": [
        "### Dataset Citation\n",
        "\n",
        "**Title:** Alzheimer's Disease Dataset\n",
        "\n",
        "**url:** https://www.kaggle.com/dsv/8668279\n",
        "\n",
        "**DOI:** 10.34740/KAGGLE/DSV/8668279\n",
        "\n",
        "**Publisher:** Kaggle\n",
        "\n",
        "**Author:** Rabie El Kharoua\n",
        "\n",
        "**Year:** 2024"
      ]
    },
    {
      "cell_type": "markdown",
      "metadata": {
        "id": "NDN_gxcaoX3d"
      },
      "source": [
        "### Dataset features\n",
        "\n",
        "- **PatientID:** A unique identifier assigned to each patient (4751 to 6900).\n",
        "- **Age:** The age of the patients ranges from 60 to 90 years.\n",
        "- **Gender:** Gender of the patients, where 0 represents Male and 1 represents Female.\n",
        "- **Ethnicity:** The ethnicity of the patients, coded as follows:\n",
        "    - 0: Caucasian\n",
        "    - 1: African American\n",
        "    - 2: Asian\n",
        "    - 3: Other\n",
        "- **EducationLevel:** The education level of the patients, coded as follows:\n",
        "    - 0: None\n",
        "    - 1: High School\n",
        "    - 2: Bachelor's\n",
        "    - 3: Higher\n",
        "- **BMI:** Body Mass Index of the patients, ranging from 15 to 40.\n",
        "- **Smoking:** Smoking status, where 0 indicates No and 1 indicates Yes.\n",
        "- **AlcoholConsumption:** Weekly alcohol consumption in units, ranging from 0 to 20.\n",
        "- **PhysicalActivity:** Weekly physical activity in hours, ranging from 0 to 10.\n",
        "- **DietQuality:** Diet quality score, ranging from 0 to 10.\n",
        "- **SleepQuality:** Sleep quality score, ranging from 4 to 10.\n",
        "- **FamilyHistoryAlzheimers:** Family history of Alzheimer's Disease, where 0 indicates No and 1 indicates Yes.\n",
        "- **CardiovascularDisease:** Presence of cardiovascular disease, where 0 indicates No and 1 indicates Yes.\n",
        "- **Diabetes:** Presence of diabetes, where 0 indicates No and 1 indicates Yes.\n",
        "- **Depression:** Presence of depression, where 0 indicates No and 1 indicates Yes.\n",
        "- **HeadInjury:** History of head injury, where 0 indicates No and 1 indicates Yes.\n",
        "- **Hypertension:** Presence of hypertension, where 0 indicates No and 1 indicates Yes.\n",
        "- **SystolicBP:** Systolic blood pressure, ranging from 90 to 180 mmHg.\n",
        "- **DiastolicBP:** Diastolic blood pressure, ranging from 60 to 120 mmHg.\n",
        "- **CholesterolTotal:** Total cholesterol levels, ranging from 150 to 300 mg/dL.\n",
        "- **CholesterolLDL:** Low-density lipoprotein cholesterol levels, ranging from 50 to 200 mg/dL.\n",
        "- **CholesterolHDL:** High-density lipoprotein cholesterol levels, ranging from 20 to 100 mg/dL.\n",
        "- **CholesterolTriglycerides:** Triglycerides levels, ranging from 50 to 400 mg/dL.\n",
        "- **MMSE:** Mini-Mental State Examination score, ranging from 0 to 30. Lower scores indicate cognitive impairment.\n",
        "- **FunctionalAssessment:** Functional assessment score, ranging from 0 to 10. Lower scores indicate greater impairment.\n",
        "- **MemoryComplaints:** Presence of memory complaints, where 0 indicates No and 1 indicates Yes.\n",
        "- **BehavioralProblems:** Presence of behavioral problems, where 0 indicates No and 1 indicates Yes.\n",
        "- **ADL:** Activities of Daily Living score, ranging from 0 to 10. Lower scores indicate greater impairment.\n",
        "- **Confusion:** Presence of confusion, where 0 indicates No and 1 indicates Yes.\n",
        "- **Disorientation:** Presence of disorientation, where 0 indicates No and 1 indicates Yes.\n",
        "- **PersonalityChanges:** Presence of personality changes, where 0 indicates No and 1 indicates Yes.\n",
        "- **DifficultyCompletingTasks:** Presence of difficulty completing tasks, where 0 indicates No and 1 indicates Yes.\n",
        "- **Forgetfulness:** Presence of forgetfulness, where 0 indicates No and 1 indicates Yes.\n",
        "- **Diagnosis:** Diagnosis status for Alzheimer's Disease, where 0 indicates No and 1 indicates Yes.\n",
        "- **DoctorInCharge:** This column contains confidential information about the doctor in charge, with \"XXXConfid\" as the value for all patients."
      ]
    },
    {
      "cell_type": "markdown",
      "metadata": {
        "id": "equYZFUVsNMr"
      },
      "source": [
        "## 1. Data Preprocessing"
      ]
    },
    {
      "cell_type": "markdown",
      "metadata": {
        "id": "RvmWlJJKYjKO"
      },
      "source": [
        "### Import Libraries"
      ]
    },
    {
      "cell_type": "code",
      "execution_count": 4,
      "metadata": {
        "id": "jjw0obX2X3Rr"
      },
      "outputs": [],
      "source": [
        "import pandas as pd\n",
        "import numpy as np\n",
        "import matplotlib.pyplot as plt"
      ]
    },
    {
      "cell_type": "markdown",
      "metadata": {
        "id": "LX98PO6Ab4QZ"
      },
      "source": [
        "### Global variables"
      ]
    },
    {
      "cell_type": "code",
      "execution_count": 5,
      "metadata": {
        "id": "3LIbQUzMb-IT"
      },
      "outputs": [],
      "source": [
        "kfold_cv = 10 # number of folds in K-Fold Cross Validation\n",
        "my_random_state = 777 # set random state for models for consistent runs"
      ]
    },
    {
      "cell_type": "markdown",
      "metadata": {
        "id": "gX-jicHeYbN1"
      },
      "source": [
        "### Import Data"
      ]
    },
    {
      "cell_type": "markdown",
      "metadata": {
        "id": "z_sU91NIpE_h"
      },
      "source": [
        "The PatientID column and DoctorInCharge columns aren't relevant for the model"
      ]
    },
    {
      "cell_type": "code",
      "execution_count": 6,
      "metadata": {
        "id": "Lu1wVgLaYZUU"
      },
      "outputs": [],
      "source": [
        "dataset = pd.read_csv('../../data/alzheimers_disease_data.csv') # for local jupyter notebook\n",
        "# dataset = pd.read_csv('alzheimers_disease_data.csv') # for google colab\n",
        "dataset = dataset.drop(['PatientID', 'DoctorInCharge'], axis= 1)"
      ]
    },
    {
      "cell_type": "code",
      "execution_count": 7,
      "metadata": {
        "colab": {
          "base_uri": "https://localhost:8080/",
          "height": 256
        },
        "id": "VeLb1JNVZRq3",
        "outputId": "fff35843-f64a-4520-bb6f-b57e96c19c0d"
      },
      "outputs": [
        {
          "output_type": "execute_result",
          "data": {
            "text/plain": [
              "   Age  Gender  Ethnicity  EducationLevel        BMI  Smoking  \\\n",
              "0   73       0          0               2  22.927749        0   \n",
              "1   89       0          0               0  26.827681        0   \n",
              "2   73       0          3               1  17.795882        0   \n",
              "3   74       1          0               1  33.800817        1   \n",
              "4   89       0          0               0  20.716974        0   \n",
              "\n",
              "   AlcoholConsumption  PhysicalActivity  DietQuality  SleepQuality  ...  \\\n",
              "0           13.297218          6.327112     1.347214      9.025679  ...   \n",
              "1            4.542524          7.619885     0.518767      7.151293  ...   \n",
              "2           19.555085          7.844988     1.826335      9.673574  ...   \n",
              "3           12.209266          8.428001     7.435604      8.392554  ...   \n",
              "4           18.454356          6.310461     0.795498      5.597238  ...   \n",
              "\n",
              "   FunctionalAssessment  MemoryComplaints  BehavioralProblems       ADL  \\\n",
              "0              6.518877                 0                   0  1.725883   \n",
              "1              7.118696                 0                   0  2.592424   \n",
              "2              5.895077                 0                   0  7.119548   \n",
              "3              8.965106                 0                   1  6.481226   \n",
              "4              6.045039                 0                   0  0.014691   \n",
              "\n",
              "   Confusion  Disorientation  PersonalityChanges  DifficultyCompletingTasks  \\\n",
              "0          0               0                   0                          1   \n",
              "1          0               0                   0                          0   \n",
              "2          0               1                   0                          1   \n",
              "3          0               0                   0                          0   \n",
              "4          0               0                   1                          1   \n",
              "\n",
              "   Forgetfulness  Diagnosis  \n",
              "0              0          0  \n",
              "1              1          0  \n",
              "2              0          0  \n",
              "3              0          0  \n",
              "4              0          0  \n",
              "\n",
              "[5 rows x 33 columns]"
            ],
            "text/html": [
              "\n",
              "  <div id=\"df-d9a6fa32-efba-4e3c-b3bd-f1f716d1d8cc\" class=\"colab-df-container\">\n",
              "    <div>\n",
              "<style scoped>\n",
              "    .dataframe tbody tr th:only-of-type {\n",
              "        vertical-align: middle;\n",
              "    }\n",
              "\n",
              "    .dataframe tbody tr th {\n",
              "        vertical-align: top;\n",
              "    }\n",
              "\n",
              "    .dataframe thead th {\n",
              "        text-align: right;\n",
              "    }\n",
              "</style>\n",
              "<table border=\"1\" class=\"dataframe\">\n",
              "  <thead>\n",
              "    <tr style=\"text-align: right;\">\n",
              "      <th></th>\n",
              "      <th>Age</th>\n",
              "      <th>Gender</th>\n",
              "      <th>Ethnicity</th>\n",
              "      <th>EducationLevel</th>\n",
              "      <th>BMI</th>\n",
              "      <th>Smoking</th>\n",
              "      <th>AlcoholConsumption</th>\n",
              "      <th>PhysicalActivity</th>\n",
              "      <th>DietQuality</th>\n",
              "      <th>SleepQuality</th>\n",
              "      <th>...</th>\n",
              "      <th>FunctionalAssessment</th>\n",
              "      <th>MemoryComplaints</th>\n",
              "      <th>BehavioralProblems</th>\n",
              "      <th>ADL</th>\n",
              "      <th>Confusion</th>\n",
              "      <th>Disorientation</th>\n",
              "      <th>PersonalityChanges</th>\n",
              "      <th>DifficultyCompletingTasks</th>\n",
              "      <th>Forgetfulness</th>\n",
              "      <th>Diagnosis</th>\n",
              "    </tr>\n",
              "  </thead>\n",
              "  <tbody>\n",
              "    <tr>\n",
              "      <th>0</th>\n",
              "      <td>73</td>\n",
              "      <td>0</td>\n",
              "      <td>0</td>\n",
              "      <td>2</td>\n",
              "      <td>22.927749</td>\n",
              "      <td>0</td>\n",
              "      <td>13.297218</td>\n",
              "      <td>6.327112</td>\n",
              "      <td>1.347214</td>\n",
              "      <td>9.025679</td>\n",
              "      <td>...</td>\n",
              "      <td>6.518877</td>\n",
              "      <td>0</td>\n",
              "      <td>0</td>\n",
              "      <td>1.725883</td>\n",
              "      <td>0</td>\n",
              "      <td>0</td>\n",
              "      <td>0</td>\n",
              "      <td>1</td>\n",
              "      <td>0</td>\n",
              "      <td>0</td>\n",
              "    </tr>\n",
              "    <tr>\n",
              "      <th>1</th>\n",
              "      <td>89</td>\n",
              "      <td>0</td>\n",
              "      <td>0</td>\n",
              "      <td>0</td>\n",
              "      <td>26.827681</td>\n",
              "      <td>0</td>\n",
              "      <td>4.542524</td>\n",
              "      <td>7.619885</td>\n",
              "      <td>0.518767</td>\n",
              "      <td>7.151293</td>\n",
              "      <td>...</td>\n",
              "      <td>7.118696</td>\n",
              "      <td>0</td>\n",
              "      <td>0</td>\n",
              "      <td>2.592424</td>\n",
              "      <td>0</td>\n",
              "      <td>0</td>\n",
              "      <td>0</td>\n",
              "      <td>0</td>\n",
              "      <td>1</td>\n",
              "      <td>0</td>\n",
              "    </tr>\n",
              "    <tr>\n",
              "      <th>2</th>\n",
              "      <td>73</td>\n",
              "      <td>0</td>\n",
              "      <td>3</td>\n",
              "      <td>1</td>\n",
              "      <td>17.795882</td>\n",
              "      <td>0</td>\n",
              "      <td>19.555085</td>\n",
              "      <td>7.844988</td>\n",
              "      <td>1.826335</td>\n",
              "      <td>9.673574</td>\n",
              "      <td>...</td>\n",
              "      <td>5.895077</td>\n",
              "      <td>0</td>\n",
              "      <td>0</td>\n",
              "      <td>7.119548</td>\n",
              "      <td>0</td>\n",
              "      <td>1</td>\n",
              "      <td>0</td>\n",
              "      <td>1</td>\n",
              "      <td>0</td>\n",
              "      <td>0</td>\n",
              "    </tr>\n",
              "    <tr>\n",
              "      <th>3</th>\n",
              "      <td>74</td>\n",
              "      <td>1</td>\n",
              "      <td>0</td>\n",
              "      <td>1</td>\n",
              "      <td>33.800817</td>\n",
              "      <td>1</td>\n",
              "      <td>12.209266</td>\n",
              "      <td>8.428001</td>\n",
              "      <td>7.435604</td>\n",
              "      <td>8.392554</td>\n",
              "      <td>...</td>\n",
              "      <td>8.965106</td>\n",
              "      <td>0</td>\n",
              "      <td>1</td>\n",
              "      <td>6.481226</td>\n",
              "      <td>0</td>\n",
              "      <td>0</td>\n",
              "      <td>0</td>\n",
              "      <td>0</td>\n",
              "      <td>0</td>\n",
              "      <td>0</td>\n",
              "    </tr>\n",
              "    <tr>\n",
              "      <th>4</th>\n",
              "      <td>89</td>\n",
              "      <td>0</td>\n",
              "      <td>0</td>\n",
              "      <td>0</td>\n",
              "      <td>20.716974</td>\n",
              "      <td>0</td>\n",
              "      <td>18.454356</td>\n",
              "      <td>6.310461</td>\n",
              "      <td>0.795498</td>\n",
              "      <td>5.597238</td>\n",
              "      <td>...</td>\n",
              "      <td>6.045039</td>\n",
              "      <td>0</td>\n",
              "      <td>0</td>\n",
              "      <td>0.014691</td>\n",
              "      <td>0</td>\n",
              "      <td>0</td>\n",
              "      <td>1</td>\n",
              "      <td>1</td>\n",
              "      <td>0</td>\n",
              "      <td>0</td>\n",
              "    </tr>\n",
              "  </tbody>\n",
              "</table>\n",
              "<p>5 rows × 33 columns</p>\n",
              "</div>\n",
              "    <div class=\"colab-df-buttons\">\n",
              "\n",
              "  <div class=\"colab-df-container\">\n",
              "    <button class=\"colab-df-convert\" onclick=\"convertToInteractive('df-d9a6fa32-efba-4e3c-b3bd-f1f716d1d8cc')\"\n",
              "            title=\"Convert this dataframe to an interactive table.\"\n",
              "            style=\"display:none;\">\n",
              "\n",
              "  <svg xmlns=\"http://www.w3.org/2000/svg\" height=\"24px\" viewBox=\"0 -960 960 960\">\n",
              "    <path d=\"M120-120v-720h720v720H120Zm60-500h600v-160H180v160Zm220 220h160v-160H400v160Zm0 220h160v-160H400v160ZM180-400h160v-160H180v160Zm440 0h160v-160H620v160ZM180-180h160v-160H180v160Zm440 0h160v-160H620v160Z\"/>\n",
              "  </svg>\n",
              "    </button>\n",
              "\n",
              "  <style>\n",
              "    .colab-df-container {\n",
              "      display:flex;\n",
              "      gap: 12px;\n",
              "    }\n",
              "\n",
              "    .colab-df-convert {\n",
              "      background-color: #E8F0FE;\n",
              "      border: none;\n",
              "      border-radius: 50%;\n",
              "      cursor: pointer;\n",
              "      display: none;\n",
              "      fill: #1967D2;\n",
              "      height: 32px;\n",
              "      padding: 0 0 0 0;\n",
              "      width: 32px;\n",
              "    }\n",
              "\n",
              "    .colab-df-convert:hover {\n",
              "      background-color: #E2EBFA;\n",
              "      box-shadow: 0px 1px 2px rgba(60, 64, 67, 0.3), 0px 1px 3px 1px rgba(60, 64, 67, 0.15);\n",
              "      fill: #174EA6;\n",
              "    }\n",
              "\n",
              "    .colab-df-buttons div {\n",
              "      margin-bottom: 4px;\n",
              "    }\n",
              "\n",
              "    [theme=dark] .colab-df-convert {\n",
              "      background-color: #3B4455;\n",
              "      fill: #D2E3FC;\n",
              "    }\n",
              "\n",
              "    [theme=dark] .colab-df-convert:hover {\n",
              "      background-color: #434B5C;\n",
              "      box-shadow: 0px 1px 3px 1px rgba(0, 0, 0, 0.15);\n",
              "      filter: drop-shadow(0px 1px 2px rgba(0, 0, 0, 0.3));\n",
              "      fill: #FFFFFF;\n",
              "    }\n",
              "  </style>\n",
              "\n",
              "    <script>\n",
              "      const buttonEl =\n",
              "        document.querySelector('#df-d9a6fa32-efba-4e3c-b3bd-f1f716d1d8cc button.colab-df-convert');\n",
              "      buttonEl.style.display =\n",
              "        google.colab.kernel.accessAllowed ? 'block' : 'none';\n",
              "\n",
              "      async function convertToInteractive(key) {\n",
              "        const element = document.querySelector('#df-d9a6fa32-efba-4e3c-b3bd-f1f716d1d8cc');\n",
              "        const dataTable =\n",
              "          await google.colab.kernel.invokeFunction('convertToInteractive',\n",
              "                                                    [key], {});\n",
              "        if (!dataTable) return;\n",
              "\n",
              "        const docLinkHtml = 'Like what you see? Visit the ' +\n",
              "          '<a target=\"_blank\" href=https://colab.research.google.com/notebooks/data_table.ipynb>data table notebook</a>'\n",
              "          + ' to learn more about interactive tables.';\n",
              "        element.innerHTML = '';\n",
              "        dataTable['output_type'] = 'display_data';\n",
              "        await google.colab.output.renderOutput(dataTable, element);\n",
              "        const docLink = document.createElement('div');\n",
              "        docLink.innerHTML = docLinkHtml;\n",
              "        element.appendChild(docLink);\n",
              "      }\n",
              "    </script>\n",
              "  </div>\n",
              "\n",
              "\n",
              "<div id=\"df-19409b0d-705e-4a7a-80d8-8c1bd5fbe0f0\">\n",
              "  <button class=\"colab-df-quickchart\" onclick=\"quickchart('df-19409b0d-705e-4a7a-80d8-8c1bd5fbe0f0')\"\n",
              "            title=\"Suggest charts\"\n",
              "            style=\"display:none;\">\n",
              "\n",
              "<svg xmlns=\"http://www.w3.org/2000/svg\" height=\"24px\"viewBox=\"0 0 24 24\"\n",
              "     width=\"24px\">\n",
              "    <g>\n",
              "        <path d=\"M19 3H5c-1.1 0-2 .9-2 2v14c0 1.1.9 2 2 2h14c1.1 0 2-.9 2-2V5c0-1.1-.9-2-2-2zM9 17H7v-7h2v7zm4 0h-2V7h2v10zm4 0h-2v-4h2v4z\"/>\n",
              "    </g>\n",
              "</svg>\n",
              "  </button>\n",
              "\n",
              "<style>\n",
              "  .colab-df-quickchart {\n",
              "      --bg-color: #E8F0FE;\n",
              "      --fill-color: #1967D2;\n",
              "      --hover-bg-color: #E2EBFA;\n",
              "      --hover-fill-color: #174EA6;\n",
              "      --disabled-fill-color: #AAA;\n",
              "      --disabled-bg-color: #DDD;\n",
              "  }\n",
              "\n",
              "  [theme=dark] .colab-df-quickchart {\n",
              "      --bg-color: #3B4455;\n",
              "      --fill-color: #D2E3FC;\n",
              "      --hover-bg-color: #434B5C;\n",
              "      --hover-fill-color: #FFFFFF;\n",
              "      --disabled-bg-color: #3B4455;\n",
              "      --disabled-fill-color: #666;\n",
              "  }\n",
              "\n",
              "  .colab-df-quickchart {\n",
              "    background-color: var(--bg-color);\n",
              "    border: none;\n",
              "    border-radius: 50%;\n",
              "    cursor: pointer;\n",
              "    display: none;\n",
              "    fill: var(--fill-color);\n",
              "    height: 32px;\n",
              "    padding: 0;\n",
              "    width: 32px;\n",
              "  }\n",
              "\n",
              "  .colab-df-quickchart:hover {\n",
              "    background-color: var(--hover-bg-color);\n",
              "    box-shadow: 0 1px 2px rgba(60, 64, 67, 0.3), 0 1px 3px 1px rgba(60, 64, 67, 0.15);\n",
              "    fill: var(--button-hover-fill-color);\n",
              "  }\n",
              "\n",
              "  .colab-df-quickchart-complete:disabled,\n",
              "  .colab-df-quickchart-complete:disabled:hover {\n",
              "    background-color: var(--disabled-bg-color);\n",
              "    fill: var(--disabled-fill-color);\n",
              "    box-shadow: none;\n",
              "  }\n",
              "\n",
              "  .colab-df-spinner {\n",
              "    border: 2px solid var(--fill-color);\n",
              "    border-color: transparent;\n",
              "    border-bottom-color: var(--fill-color);\n",
              "    animation:\n",
              "      spin 1s steps(1) infinite;\n",
              "  }\n",
              "\n",
              "  @keyframes spin {\n",
              "    0% {\n",
              "      border-color: transparent;\n",
              "      border-bottom-color: var(--fill-color);\n",
              "      border-left-color: var(--fill-color);\n",
              "    }\n",
              "    20% {\n",
              "      border-color: transparent;\n",
              "      border-left-color: var(--fill-color);\n",
              "      border-top-color: var(--fill-color);\n",
              "    }\n",
              "    30% {\n",
              "      border-color: transparent;\n",
              "      border-left-color: var(--fill-color);\n",
              "      border-top-color: var(--fill-color);\n",
              "      border-right-color: var(--fill-color);\n",
              "    }\n",
              "    40% {\n",
              "      border-color: transparent;\n",
              "      border-right-color: var(--fill-color);\n",
              "      border-top-color: var(--fill-color);\n",
              "    }\n",
              "    60% {\n",
              "      border-color: transparent;\n",
              "      border-right-color: var(--fill-color);\n",
              "    }\n",
              "    80% {\n",
              "      border-color: transparent;\n",
              "      border-right-color: var(--fill-color);\n",
              "      border-bottom-color: var(--fill-color);\n",
              "    }\n",
              "    90% {\n",
              "      border-color: transparent;\n",
              "      border-bottom-color: var(--fill-color);\n",
              "    }\n",
              "  }\n",
              "</style>\n",
              "\n",
              "  <script>\n",
              "    async function quickchart(key) {\n",
              "      const quickchartButtonEl =\n",
              "        document.querySelector('#' + key + ' button');\n",
              "      quickchartButtonEl.disabled = true;  // To prevent multiple clicks.\n",
              "      quickchartButtonEl.classList.add('colab-df-spinner');\n",
              "      try {\n",
              "        const charts = await google.colab.kernel.invokeFunction(\n",
              "            'suggestCharts', [key], {});\n",
              "      } catch (error) {\n",
              "        console.error('Error during call to suggestCharts:', error);\n",
              "      }\n",
              "      quickchartButtonEl.classList.remove('colab-df-spinner');\n",
              "      quickchartButtonEl.classList.add('colab-df-quickchart-complete');\n",
              "    }\n",
              "    (() => {\n",
              "      let quickchartButtonEl =\n",
              "        document.querySelector('#df-19409b0d-705e-4a7a-80d8-8c1bd5fbe0f0 button');\n",
              "      quickchartButtonEl.style.display =\n",
              "        google.colab.kernel.accessAllowed ? 'block' : 'none';\n",
              "    })();\n",
              "  </script>\n",
              "</div>\n",
              "\n",
              "    </div>\n",
              "  </div>\n"
            ],
            "application/vnd.google.colaboratory.intrinsic+json": {
              "type": "dataframe",
              "variable_name": "dataset"
            }
          },
          "metadata": {},
          "execution_count": 7
        }
      ],
      "source": [
        "dataset.head()"
      ]
    },
    {
      "cell_type": "markdown",
      "metadata": {
        "id": "AUTd5jvuUKoR"
      },
      "source": [
        "### Check for missing or duplicated data"
      ]
    },
    {
      "cell_type": "code",
      "execution_count": 8,
      "metadata": {
        "colab": {
          "base_uri": "https://localhost:8080/"
        },
        "id": "O0Dua93GSjgG",
        "outputId": "3856986f-806c-46e9-fd8d-dfb9ca6ea3a3"
      },
      "outputs": [
        {
          "output_type": "stream",
          "name": "stdout",
          "text": [
            "<class 'pandas.core.frame.DataFrame'>\n",
            "RangeIndex: 2149 entries, 0 to 2148\n",
            "Data columns (total 33 columns):\n",
            " #   Column                     Non-Null Count  Dtype  \n",
            "---  ------                     --------------  -----  \n",
            " 0   Age                        2149 non-null   int64  \n",
            " 1   Gender                     2149 non-null   int64  \n",
            " 2   Ethnicity                  2149 non-null   int64  \n",
            " 3   EducationLevel             2149 non-null   int64  \n",
            " 4   BMI                        2149 non-null   float64\n",
            " 5   Smoking                    2149 non-null   int64  \n",
            " 6   AlcoholConsumption         2149 non-null   float64\n",
            " 7   PhysicalActivity           2149 non-null   float64\n",
            " 8   DietQuality                2149 non-null   float64\n",
            " 9   SleepQuality               2149 non-null   float64\n",
            " 10  FamilyHistoryAlzheimers    2149 non-null   int64  \n",
            " 11  CardiovascularDisease      2149 non-null   int64  \n",
            " 12  Diabetes                   2149 non-null   int64  \n",
            " 13  Depression                 2149 non-null   int64  \n",
            " 14  HeadInjury                 2149 non-null   int64  \n",
            " 15  Hypertension               2149 non-null   int64  \n",
            " 16  SystolicBP                 2149 non-null   int64  \n",
            " 17  DiastolicBP                2149 non-null   int64  \n",
            " 18  CholesterolTotal           2149 non-null   float64\n",
            " 19  CholesterolLDL             2149 non-null   float64\n",
            " 20  CholesterolHDL             2149 non-null   float64\n",
            " 21  CholesterolTriglycerides   2149 non-null   float64\n",
            " 22  MMSE                       2149 non-null   float64\n",
            " 23  FunctionalAssessment       2149 non-null   float64\n",
            " 24  MemoryComplaints           2149 non-null   int64  \n",
            " 25  BehavioralProblems         2149 non-null   int64  \n",
            " 26  ADL                        2149 non-null   float64\n",
            " 27  Confusion                  2149 non-null   int64  \n",
            " 28  Disorientation             2149 non-null   int64  \n",
            " 29  PersonalityChanges         2149 non-null   int64  \n",
            " 30  DifficultyCompletingTasks  2149 non-null   int64  \n",
            " 31  Forgetfulness              2149 non-null   int64  \n",
            " 32  Diagnosis                  2149 non-null   int64  \n",
            "dtypes: float64(12), int64(21)\n",
            "memory usage: 554.2 KB\n"
          ]
        }
      ],
      "source": [
        "# Check dataset info\n",
        "dataset.info()"
      ]
    },
    {
      "cell_type": "markdown",
      "metadata": {
        "id": "BFIFUckZS7os"
      },
      "source": [
        "All the columns have 2149 non-null entries, so there is no missing data"
      ]
    },
    {
      "cell_type": "code",
      "execution_count": 9,
      "metadata": {
        "colab": {
          "base_uri": "https://localhost:8080/"
        },
        "id": "HGJc344qUFYD",
        "outputId": "17551533-1b86-49f2-b093-444282973ac8"
      },
      "outputs": [
        {
          "output_type": "stream",
          "name": "stdout",
          "text": [
            "Empty DataFrame\n",
            "Columns: [Age, Gender, Ethnicity, EducationLevel, BMI, Smoking, AlcoholConsumption, PhysicalActivity, DietQuality, SleepQuality, FamilyHistoryAlzheimers, CardiovascularDisease, Diabetes, Depression, HeadInjury, Hypertension, SystolicBP, DiastolicBP, CholesterolTotal, CholesterolLDL, CholesterolHDL, CholesterolTriglycerides, MMSE, FunctionalAssessment, MemoryComplaints, BehavioralProblems, ADL, Confusion, Disorientation, PersonalityChanges, DifficultyCompletingTasks, Forgetfulness, Diagnosis]\n",
            "Index: []\n",
            "\n",
            "[0 rows x 33 columns]\n"
          ]
        }
      ],
      "source": [
        "print(dataset[dataset.duplicated()])"
      ]
    },
    {
      "cell_type": "markdown",
      "metadata": {
        "id": "8gd4GtZXVDbh"
      },
      "source": [
        "There are no duplicated rows"
      ]
    },
    {
      "cell_type": "markdown",
      "metadata": {
        "id": "sTV4isBxFQzR"
      },
      "source": [
        "### List all the columns"
      ]
    },
    {
      "cell_type": "code",
      "execution_count": 10,
      "metadata": {
        "id": "5hS9VzOstS-L"
      },
      "outputs": [],
      "source": [
        "# columns = list(dataset.columns)\n",
        "# ['Age',\n",
        "#  'Gender',\n",
        "#  'Ethnicity',\n",
        "#  'EducationLevel',\n",
        "#  'BMI',\n",
        "#  'Smoking',\n",
        "#  'AlcoholConsumption',\n",
        "#  'PhysicalActivity',\n",
        "#  'DietQuality',\n",
        "#  'SleepQuality',\n",
        "#  'FamilyHistoryAlzheimers',\n",
        "#  'CardiovascularDisease',\n",
        "#  'Diabetes',\n",
        "#  'Depression',\n",
        "#  'HeadInjury',\n",
        "#  'Hypertension',\n",
        "#  'SystolicBP',\n",
        "#  'DiastolicBP',\n",
        "#  'CholesterolTotal',\n",
        "#  'CholesterolLDL',\n",
        "#  'CholesterolHDL',\n",
        "#  'CholesterolTriglycerides',\n",
        "#  'MMSE',\n",
        "#  'FunctionalAssessment',\n",
        "#  'MemoryComplaints',\n",
        "#  'BehavioralProblems',\n",
        "#  'ADL',\n",
        "#  'Confusion',\n",
        "#  'Disorientation',\n",
        "#  'PersonalityChanges',\n",
        "#  'DifficultyCompletingTasks',\n",
        "#  'Forgetfulness',\n",
        "#  'Diagnosis']"
      ]
    },
    {
      "cell_type": "markdown",
      "metadata": {
        "id": "Twb8b85n6jDv"
      },
      "source": [
        "### Rearrange the columns to group scalable and categorical and binary ones together\n"
      ]
    },
    {
      "cell_type": "markdown",
      "metadata": {
        "id": "ylt3TNJxpqse"
      },
      "source": [
        "In order to encode the categorical data and do feature scaling it is necessary to move columns around so that ones of the same type are grouped together."
      ]
    },
    {
      "cell_type": "code",
      "execution_count": 11,
      "metadata": {
        "id": "Cojk-RbEstgS"
      },
      "outputs": [],
      "source": [
        "# 0:1\n",
        "categorical_columns = ['Ethnicity', 'EducationLevel']\n",
        "\n",
        "# 2:16\n",
        "scalable_columns = ['Age', 'BMI', 'AlcoholConsumption', 'PhysicalActivity',\\\n",
        "                    'DietQuality', 'SleepQuality', 'SystolicBP', 'DiastolicBP',\\\n",
        "                    'CholesterolTotal', 'CholesterolLDL', 'CholesterolHDL',\n",
        "                    'CholesterolTriglycerides', 'MMSE', 'FunctionalAssessment', 'ADL'\\\n",
        "                   ]\n",
        "# 17:32\n",
        "binary_columns = ['Gender', 'Smoking', 'FamilyHistoryAlzheimers', 'CardiovascularDisease',\\\n",
        "                  'Diabetes', 'Depression', 'HeadInjury', 'Hypertension', 'MemoryComplaints',\\\n",
        "                  'BehavioralProblems', 'Confusion', 'Disorientation', 'PersonalityChanges',\\\n",
        "                  'DifficultyCompletingTasks', 'Forgetfulness', 'Diagnosis'\\\n",
        "                 ]\n",
        "\n",
        "assert len(categorical_columns) + len(scalable_columns) + len(binary_columns) == len(dataset.columns)\n",
        "\n",
        "new_columns = categorical_columns + scalable_columns + binary_columns\n",
        "dataset = dataset[new_columns]"
      ]
    },
    {
      "cell_type": "code",
      "execution_count": 12,
      "metadata": {
        "colab": {
          "base_uri": "https://localhost:8080/",
          "height": 256
        },
        "id": "i_cNoLLaf8Du",
        "outputId": "5567ab50-07d7-4817-87eb-8796205b6173"
      },
      "outputs": [
        {
          "output_type": "execute_result",
          "data": {
            "text/plain": [
              "      Ethnicity  EducationLevel  Age        BMI  AlcoholConsumption  \\\n",
              "2144          0               1   61  39.121757            1.561126   \n",
              "2145          0               2   75  17.857903           18.767261   \n",
              "2146          0               1   77  15.476479            4.594670   \n",
              "2147          3               1   78  15.299911            8.674505   \n",
              "2148          0               2   72  33.289738            7.890703   \n",
              "\n",
              "      PhysicalActivity  DietQuality  SleepQuality  SystolicBP  DiastolicBP  \\\n",
              "2144          4.049964     6.555306      7.535540         122          101   \n",
              "2145          1.360667     2.904662      8.555256         152          106   \n",
              "2146          9.886002     8.120025      5.769464         115          118   \n",
              "2147          6.354282     1.263427      8.322874         103           96   \n",
              "2148          6.570993     7.941404      9.878711         166           78   \n",
              "\n",
              "      ...  HeadInjury  Hypertension  MemoryComplaints  BehavioralProblems  \\\n",
              "2144  ...           0             0                 0                   0   \n",
              "2145  ...           0             0                 0                   1   \n",
              "2146  ...           0             0                 0                   0   \n",
              "2147  ...           0             0                 0                   0   \n",
              "2148  ...           0             0                 0                   1   \n",
              "\n",
              "      Confusion  Disorientation  PersonalityChanges  \\\n",
              "2144          1               0                   0   \n",
              "2145          0               0                   0   \n",
              "2146          0               0                   0   \n",
              "2147          0               0                   0   \n",
              "2148          0               1                   0   \n",
              "\n",
              "      DifficultyCompletingTasks  Forgetfulness  Diagnosis  \n",
              "2144                          0              0          1  \n",
              "2145                          0              0          1  \n",
              "2146                          0              0          1  \n",
              "2147                          0              1          1  \n",
              "2148                          0              1          0  \n",
              "\n",
              "[5 rows x 33 columns]"
            ],
            "text/html": [
              "\n",
              "  <div id=\"df-4e848488-967b-43f7-9111-d137802a9acc\" class=\"colab-df-container\">\n",
              "    <div>\n",
              "<style scoped>\n",
              "    .dataframe tbody tr th:only-of-type {\n",
              "        vertical-align: middle;\n",
              "    }\n",
              "\n",
              "    .dataframe tbody tr th {\n",
              "        vertical-align: top;\n",
              "    }\n",
              "\n",
              "    .dataframe thead th {\n",
              "        text-align: right;\n",
              "    }\n",
              "</style>\n",
              "<table border=\"1\" class=\"dataframe\">\n",
              "  <thead>\n",
              "    <tr style=\"text-align: right;\">\n",
              "      <th></th>\n",
              "      <th>Ethnicity</th>\n",
              "      <th>EducationLevel</th>\n",
              "      <th>Age</th>\n",
              "      <th>BMI</th>\n",
              "      <th>AlcoholConsumption</th>\n",
              "      <th>PhysicalActivity</th>\n",
              "      <th>DietQuality</th>\n",
              "      <th>SleepQuality</th>\n",
              "      <th>SystolicBP</th>\n",
              "      <th>DiastolicBP</th>\n",
              "      <th>...</th>\n",
              "      <th>HeadInjury</th>\n",
              "      <th>Hypertension</th>\n",
              "      <th>MemoryComplaints</th>\n",
              "      <th>BehavioralProblems</th>\n",
              "      <th>Confusion</th>\n",
              "      <th>Disorientation</th>\n",
              "      <th>PersonalityChanges</th>\n",
              "      <th>DifficultyCompletingTasks</th>\n",
              "      <th>Forgetfulness</th>\n",
              "      <th>Diagnosis</th>\n",
              "    </tr>\n",
              "  </thead>\n",
              "  <tbody>\n",
              "    <tr>\n",
              "      <th>2144</th>\n",
              "      <td>0</td>\n",
              "      <td>1</td>\n",
              "      <td>61</td>\n",
              "      <td>39.121757</td>\n",
              "      <td>1.561126</td>\n",
              "      <td>4.049964</td>\n",
              "      <td>6.555306</td>\n",
              "      <td>7.535540</td>\n",
              "      <td>122</td>\n",
              "      <td>101</td>\n",
              "      <td>...</td>\n",
              "      <td>0</td>\n",
              "      <td>0</td>\n",
              "      <td>0</td>\n",
              "      <td>0</td>\n",
              "      <td>1</td>\n",
              "      <td>0</td>\n",
              "      <td>0</td>\n",
              "      <td>0</td>\n",
              "      <td>0</td>\n",
              "      <td>1</td>\n",
              "    </tr>\n",
              "    <tr>\n",
              "      <th>2145</th>\n",
              "      <td>0</td>\n",
              "      <td>2</td>\n",
              "      <td>75</td>\n",
              "      <td>17.857903</td>\n",
              "      <td>18.767261</td>\n",
              "      <td>1.360667</td>\n",
              "      <td>2.904662</td>\n",
              "      <td>8.555256</td>\n",
              "      <td>152</td>\n",
              "      <td>106</td>\n",
              "      <td>...</td>\n",
              "      <td>0</td>\n",
              "      <td>0</td>\n",
              "      <td>0</td>\n",
              "      <td>1</td>\n",
              "      <td>0</td>\n",
              "      <td>0</td>\n",
              "      <td>0</td>\n",
              "      <td>0</td>\n",
              "      <td>0</td>\n",
              "      <td>1</td>\n",
              "    </tr>\n",
              "    <tr>\n",
              "      <th>2146</th>\n",
              "      <td>0</td>\n",
              "      <td>1</td>\n",
              "      <td>77</td>\n",
              "      <td>15.476479</td>\n",
              "      <td>4.594670</td>\n",
              "      <td>9.886002</td>\n",
              "      <td>8.120025</td>\n",
              "      <td>5.769464</td>\n",
              "      <td>115</td>\n",
              "      <td>118</td>\n",
              "      <td>...</td>\n",
              "      <td>0</td>\n",
              "      <td>0</td>\n",
              "      <td>0</td>\n",
              "      <td>0</td>\n",
              "      <td>0</td>\n",
              "      <td>0</td>\n",
              "      <td>0</td>\n",
              "      <td>0</td>\n",
              "      <td>0</td>\n",
              "      <td>1</td>\n",
              "    </tr>\n",
              "    <tr>\n",
              "      <th>2147</th>\n",
              "      <td>3</td>\n",
              "      <td>1</td>\n",
              "      <td>78</td>\n",
              "      <td>15.299911</td>\n",
              "      <td>8.674505</td>\n",
              "      <td>6.354282</td>\n",
              "      <td>1.263427</td>\n",
              "      <td>8.322874</td>\n",
              "      <td>103</td>\n",
              "      <td>96</td>\n",
              "      <td>...</td>\n",
              "      <td>0</td>\n",
              "      <td>0</td>\n",
              "      <td>0</td>\n",
              "      <td>0</td>\n",
              "      <td>0</td>\n",
              "      <td>0</td>\n",
              "      <td>0</td>\n",
              "      <td>0</td>\n",
              "      <td>1</td>\n",
              "      <td>1</td>\n",
              "    </tr>\n",
              "    <tr>\n",
              "      <th>2148</th>\n",
              "      <td>0</td>\n",
              "      <td>2</td>\n",
              "      <td>72</td>\n",
              "      <td>33.289738</td>\n",
              "      <td>7.890703</td>\n",
              "      <td>6.570993</td>\n",
              "      <td>7.941404</td>\n",
              "      <td>9.878711</td>\n",
              "      <td>166</td>\n",
              "      <td>78</td>\n",
              "      <td>...</td>\n",
              "      <td>0</td>\n",
              "      <td>0</td>\n",
              "      <td>0</td>\n",
              "      <td>1</td>\n",
              "      <td>0</td>\n",
              "      <td>1</td>\n",
              "      <td>0</td>\n",
              "      <td>0</td>\n",
              "      <td>1</td>\n",
              "      <td>0</td>\n",
              "    </tr>\n",
              "  </tbody>\n",
              "</table>\n",
              "<p>5 rows × 33 columns</p>\n",
              "</div>\n",
              "    <div class=\"colab-df-buttons\">\n",
              "\n",
              "  <div class=\"colab-df-container\">\n",
              "    <button class=\"colab-df-convert\" onclick=\"convertToInteractive('df-4e848488-967b-43f7-9111-d137802a9acc')\"\n",
              "            title=\"Convert this dataframe to an interactive table.\"\n",
              "            style=\"display:none;\">\n",
              "\n",
              "  <svg xmlns=\"http://www.w3.org/2000/svg\" height=\"24px\" viewBox=\"0 -960 960 960\">\n",
              "    <path d=\"M120-120v-720h720v720H120Zm60-500h600v-160H180v160Zm220 220h160v-160H400v160Zm0 220h160v-160H400v160ZM180-400h160v-160H180v160Zm440 0h160v-160H620v160ZM180-180h160v-160H180v160Zm440 0h160v-160H620v160Z\"/>\n",
              "  </svg>\n",
              "    </button>\n",
              "\n",
              "  <style>\n",
              "    .colab-df-container {\n",
              "      display:flex;\n",
              "      gap: 12px;\n",
              "    }\n",
              "\n",
              "    .colab-df-convert {\n",
              "      background-color: #E8F0FE;\n",
              "      border: none;\n",
              "      border-radius: 50%;\n",
              "      cursor: pointer;\n",
              "      display: none;\n",
              "      fill: #1967D2;\n",
              "      height: 32px;\n",
              "      padding: 0 0 0 0;\n",
              "      width: 32px;\n",
              "    }\n",
              "\n",
              "    .colab-df-convert:hover {\n",
              "      background-color: #E2EBFA;\n",
              "      box-shadow: 0px 1px 2px rgba(60, 64, 67, 0.3), 0px 1px 3px 1px rgba(60, 64, 67, 0.15);\n",
              "      fill: #174EA6;\n",
              "    }\n",
              "\n",
              "    .colab-df-buttons div {\n",
              "      margin-bottom: 4px;\n",
              "    }\n",
              "\n",
              "    [theme=dark] .colab-df-convert {\n",
              "      background-color: #3B4455;\n",
              "      fill: #D2E3FC;\n",
              "    }\n",
              "\n",
              "    [theme=dark] .colab-df-convert:hover {\n",
              "      background-color: #434B5C;\n",
              "      box-shadow: 0px 1px 3px 1px rgba(0, 0, 0, 0.15);\n",
              "      filter: drop-shadow(0px 1px 2px rgba(0, 0, 0, 0.3));\n",
              "      fill: #FFFFFF;\n",
              "    }\n",
              "  </style>\n",
              "\n",
              "    <script>\n",
              "      const buttonEl =\n",
              "        document.querySelector('#df-4e848488-967b-43f7-9111-d137802a9acc button.colab-df-convert');\n",
              "      buttonEl.style.display =\n",
              "        google.colab.kernel.accessAllowed ? 'block' : 'none';\n",
              "\n",
              "      async function convertToInteractive(key) {\n",
              "        const element = document.querySelector('#df-4e848488-967b-43f7-9111-d137802a9acc');\n",
              "        const dataTable =\n",
              "          await google.colab.kernel.invokeFunction('convertToInteractive',\n",
              "                                                    [key], {});\n",
              "        if (!dataTable) return;\n",
              "\n",
              "        const docLinkHtml = 'Like what you see? Visit the ' +\n",
              "          '<a target=\"_blank\" href=https://colab.research.google.com/notebooks/data_table.ipynb>data table notebook</a>'\n",
              "          + ' to learn more about interactive tables.';\n",
              "        element.innerHTML = '';\n",
              "        dataTable['output_type'] = 'display_data';\n",
              "        await google.colab.output.renderOutput(dataTable, element);\n",
              "        const docLink = document.createElement('div');\n",
              "        docLink.innerHTML = docLinkHtml;\n",
              "        element.appendChild(docLink);\n",
              "      }\n",
              "    </script>\n",
              "  </div>\n",
              "\n",
              "\n",
              "<div id=\"df-4df4bab0-8f63-4409-85fd-34145ac7884c\">\n",
              "  <button class=\"colab-df-quickchart\" onclick=\"quickchart('df-4df4bab0-8f63-4409-85fd-34145ac7884c')\"\n",
              "            title=\"Suggest charts\"\n",
              "            style=\"display:none;\">\n",
              "\n",
              "<svg xmlns=\"http://www.w3.org/2000/svg\" height=\"24px\"viewBox=\"0 0 24 24\"\n",
              "     width=\"24px\">\n",
              "    <g>\n",
              "        <path d=\"M19 3H5c-1.1 0-2 .9-2 2v14c0 1.1.9 2 2 2h14c1.1 0 2-.9 2-2V5c0-1.1-.9-2-2-2zM9 17H7v-7h2v7zm4 0h-2V7h2v10zm4 0h-2v-4h2v4z\"/>\n",
              "    </g>\n",
              "</svg>\n",
              "  </button>\n",
              "\n",
              "<style>\n",
              "  .colab-df-quickchart {\n",
              "      --bg-color: #E8F0FE;\n",
              "      --fill-color: #1967D2;\n",
              "      --hover-bg-color: #E2EBFA;\n",
              "      --hover-fill-color: #174EA6;\n",
              "      --disabled-fill-color: #AAA;\n",
              "      --disabled-bg-color: #DDD;\n",
              "  }\n",
              "\n",
              "  [theme=dark] .colab-df-quickchart {\n",
              "      --bg-color: #3B4455;\n",
              "      --fill-color: #D2E3FC;\n",
              "      --hover-bg-color: #434B5C;\n",
              "      --hover-fill-color: #FFFFFF;\n",
              "      --disabled-bg-color: #3B4455;\n",
              "      --disabled-fill-color: #666;\n",
              "  }\n",
              "\n",
              "  .colab-df-quickchart {\n",
              "    background-color: var(--bg-color);\n",
              "    border: none;\n",
              "    border-radius: 50%;\n",
              "    cursor: pointer;\n",
              "    display: none;\n",
              "    fill: var(--fill-color);\n",
              "    height: 32px;\n",
              "    padding: 0;\n",
              "    width: 32px;\n",
              "  }\n",
              "\n",
              "  .colab-df-quickchart:hover {\n",
              "    background-color: var(--hover-bg-color);\n",
              "    box-shadow: 0 1px 2px rgba(60, 64, 67, 0.3), 0 1px 3px 1px rgba(60, 64, 67, 0.15);\n",
              "    fill: var(--button-hover-fill-color);\n",
              "  }\n",
              "\n",
              "  .colab-df-quickchart-complete:disabled,\n",
              "  .colab-df-quickchart-complete:disabled:hover {\n",
              "    background-color: var(--disabled-bg-color);\n",
              "    fill: var(--disabled-fill-color);\n",
              "    box-shadow: none;\n",
              "  }\n",
              "\n",
              "  .colab-df-spinner {\n",
              "    border: 2px solid var(--fill-color);\n",
              "    border-color: transparent;\n",
              "    border-bottom-color: var(--fill-color);\n",
              "    animation:\n",
              "      spin 1s steps(1) infinite;\n",
              "  }\n",
              "\n",
              "  @keyframes spin {\n",
              "    0% {\n",
              "      border-color: transparent;\n",
              "      border-bottom-color: var(--fill-color);\n",
              "      border-left-color: var(--fill-color);\n",
              "    }\n",
              "    20% {\n",
              "      border-color: transparent;\n",
              "      border-left-color: var(--fill-color);\n",
              "      border-top-color: var(--fill-color);\n",
              "    }\n",
              "    30% {\n",
              "      border-color: transparent;\n",
              "      border-left-color: var(--fill-color);\n",
              "      border-top-color: var(--fill-color);\n",
              "      border-right-color: var(--fill-color);\n",
              "    }\n",
              "    40% {\n",
              "      border-color: transparent;\n",
              "      border-right-color: var(--fill-color);\n",
              "      border-top-color: var(--fill-color);\n",
              "    }\n",
              "    60% {\n",
              "      border-color: transparent;\n",
              "      border-right-color: var(--fill-color);\n",
              "    }\n",
              "    80% {\n",
              "      border-color: transparent;\n",
              "      border-right-color: var(--fill-color);\n",
              "      border-bottom-color: var(--fill-color);\n",
              "    }\n",
              "    90% {\n",
              "      border-color: transparent;\n",
              "      border-bottom-color: var(--fill-color);\n",
              "    }\n",
              "  }\n",
              "</style>\n",
              "\n",
              "  <script>\n",
              "    async function quickchart(key) {\n",
              "      const quickchartButtonEl =\n",
              "        document.querySelector('#' + key + ' button');\n",
              "      quickchartButtonEl.disabled = true;  // To prevent multiple clicks.\n",
              "      quickchartButtonEl.classList.add('colab-df-spinner');\n",
              "      try {\n",
              "        const charts = await google.colab.kernel.invokeFunction(\n",
              "            'suggestCharts', [key], {});\n",
              "      } catch (error) {\n",
              "        console.error('Error during call to suggestCharts:', error);\n",
              "      }\n",
              "      quickchartButtonEl.classList.remove('colab-df-spinner');\n",
              "      quickchartButtonEl.classList.add('colab-df-quickchart-complete');\n",
              "    }\n",
              "    (() => {\n",
              "      let quickchartButtonEl =\n",
              "        document.querySelector('#df-4df4bab0-8f63-4409-85fd-34145ac7884c button');\n",
              "      quickchartButtonEl.style.display =\n",
              "        google.colab.kernel.accessAllowed ? 'block' : 'none';\n",
              "    })();\n",
              "  </script>\n",
              "</div>\n",
              "\n",
              "    </div>\n",
              "  </div>\n"
            ],
            "application/vnd.google.colaboratory.intrinsic+json": {
              "type": "dataframe"
            }
          },
          "metadata": {},
          "execution_count": 12
        }
      ],
      "source": [
        "dataset.tail()"
      ]
    },
    {
      "cell_type": "markdown",
      "metadata": {
        "id": "EvaeXnHb9iDQ"
      },
      "source": [
        "### Find least correlated feature"
      ]
    },
    {
      "cell_type": "code",
      "execution_count": 13,
      "metadata": {
        "colab": {
          "base_uri": "https://localhost:8080/"
        },
        "id": "RmZzZ_iB47yM",
        "outputId": "331255e4-fb23-4de1-9d8d-0a5250bda6c5"
      },
      "outputs": [
        {
          "output_type": "stream",
          "name": "stdout",
          "text": [
            "Diagnosis                    1.000000\n",
            "FunctionalAssessment        -0.364898\n",
            "ADL                         -0.332346\n",
            "MemoryComplaints             0.306742\n",
            "MMSE                        -0.237126\n",
            "BehavioralProblems           0.224350\n",
            "SleepQuality                -0.056548\n",
            "EducationLevel              -0.043966\n",
            "CholesterolHDL               0.042584\n",
            "Hypertension                 0.035080\n",
            "FamilyHistoryAlzheimers     -0.032900\n",
            "CholesterolLDL              -0.031976\n",
            "Diabetes                    -0.031508\n",
            "CardiovascularDisease        0.031490\n",
            "BMI                          0.026343\n",
            "Disorientation              -0.024648\n",
            "CholesterolTriglycerides     0.022672\n",
            "HeadInjury                  -0.021411\n",
            "Gender                      -0.020975\n",
            "PersonalityChanges          -0.020627\n",
            "Confusion                   -0.019186\n",
            "SystolicBP                  -0.015615\n",
            "Ethnicity                   -0.014782\n",
            "DifficultyCompletingTasks    0.009069\n",
            "DietQuality                  0.008506\n",
            "AlcoholConsumption          -0.007618\n",
            "CholesterolTotal             0.006394\n",
            "PhysicalActivity             0.005945\n",
            "Depression                  -0.005893\n",
            "Age                         -0.005488\n",
            "DiastolicBP                  0.005293\n",
            "Smoking                     -0.004865\n",
            "Forgetfulness               -0.000354\n",
            "Name: Diagnosis, dtype: float64\n"
          ]
        }
      ],
      "source": [
        "correlation_matrix = dataset.corr()\n",
        "target_correlation = correlation_matrix['Diagnosis'].sort_values(ascending=False, key=abs)\n",
        "print(target_correlation)"
      ]
    },
    {
      "cell_type": "markdown",
      "metadata": {
        "id": "OeIYsNLn9u_A"
      },
      "source": [
        "Forgetfullness is the least correlated so drop it from the dataset\n",
        "\n",
        "FunctionalAssessment, ADL, MemoryComplaints, MMSE and BehavioralProblems are the most significantly correlated, abs more than 0.1. After I choose which gradient boost model to use I will see if similar results can be achieved with just these 5 features."
      ]
    },
    {
      "cell_type": "code",
      "execution_count": 14,
      "metadata": {
        "id": "9MyOF0bw91ty"
      },
      "outputs": [],
      "source": [
        "dataset = dataset.drop(columns = 'Forgetfulness')\n",
        "\n",
        "# 2:16\n",
        "compact_columns = ['FunctionalAssessment', 'ADL', 'MMSE',\\\n",
        "                    'MemoryComplaints', 'BehavioralProblems', 'Diagnosis'\\\n",
        "                   ]"
      ]
    },
    {
      "cell_type": "markdown",
      "metadata": {
        "id": "fhA6wDvFtre4"
      },
      "source": [
        "### Extract X and y"
      ]
    },
    {
      "cell_type": "code",
      "execution_count": 15,
      "metadata": {
        "id": "tE97tVUBtqRQ"
      },
      "outputs": [],
      "source": [
        "X = dataset.iloc[:,:-1].values\n",
        "y = dataset.iloc[:, -1].values"
      ]
    },
    {
      "cell_type": "markdown",
      "metadata": {
        "id": "kOZ4FQRTC5ew"
      },
      "source": [
        "### Encoding categorical data"
      ]
    },
    {
      "cell_type": "code",
      "execution_count": 16,
      "metadata": {
        "id": "zN3VR08jTMRp"
      },
      "outputs": [],
      "source": [
        "from sklearn.compose import ColumnTransformer\n",
        "from sklearn.preprocessing import OneHotEncoder\n",
        "ct = ColumnTransformer(transformers=[('encoder', OneHotEncoder(), [0, 1] )], remainder='passthrough')\n",
        "X = np.array(ct.fit_transform(X))"
      ]
    },
    {
      "cell_type": "markdown",
      "metadata": {
        "id": "LBaQpsoiGEod"
      },
      "source": [
        "### Splitting the dataset into the Training set and Test set"
      ]
    },
    {
      "cell_type": "code",
      "execution_count": 17,
      "metadata": {
        "id": "FTHPaYUpGJcn"
      },
      "outputs": [],
      "source": [
        "# Splitting the dataset into the Training set and Test set\n",
        "from sklearn.model_selection import train_test_split\n",
        "X_train, X_test, y_train, y_test = train_test_split(X, y, test_size=0.2, random_state = my_random_state)"
      ]
    },
    {
      "cell_type": "code",
      "execution_count": 18,
      "metadata": {
        "colab": {
          "base_uri": "https://localhost:8080/"
        },
        "id": "s-zib0kqD79o",
        "outputId": "c1731e24-cd9c-4e8a-fa0b-1f85719131db"
      },
      "outputs": [
        {
          "output_type": "execute_result",
          "data": {
            "text/plain": [
              "array([1.00000000e+00, 0.00000000e+00, 0.00000000e+00, 0.00000000e+00,\n",
              "       0.00000000e+00, 1.00000000e+00, 0.00000000e+00, 0.00000000e+00,\n",
              "       8.30000000e+01, 1.74676264e+01, 8.13146340e+00, 7.85111769e+00,\n",
              "       5.05164538e+00, 5.20053085e+00, 1.78000000e+02, 8.60000000e+01,\n",
              "       1.65851535e+02, 9.87366340e+01, 8.67446971e+01, 8.30059434e+01,\n",
              "       1.36895662e-01, 1.73499449e+00, 3.80938560e+00, 0.00000000e+00,\n",
              "       0.00000000e+00, 0.00000000e+00, 0.00000000e+00, 0.00000000e+00,\n",
              "       1.00000000e+00, 0.00000000e+00, 0.00000000e+00, 0.00000000e+00,\n",
              "       1.00000000e+00, 0.00000000e+00, 0.00000000e+00, 0.00000000e+00,\n",
              "       1.00000000e+00])"
            ]
          },
          "metadata": {},
          "execution_count": 18
        }
      ],
      "source": [
        "X_train[0]"
      ]
    },
    {
      "cell_type": "markdown",
      "metadata": {
        "id": "n2hAGgruG53d"
      },
      "source": [
        "### Feature Scaling"
      ]
    },
    {
      "cell_type": "code",
      "execution_count": 19,
      "metadata": {
        "id": "f4H0KBFWG-iw"
      },
      "outputs": [],
      "source": [
        "from sklearn.preprocessing import StandardScaler\n",
        "sc = StandardScaler()\n",
        "X_train[:, 8:23] = sc.fit_transform(X_train[:, 8:23])\n",
        "X_test[:, 8:23] = sc.transform(X_test[:, 8:23])"
      ]
    },
    {
      "cell_type": "code",
      "execution_count": 20,
      "metadata": {
        "colab": {
          "base_uri": "https://localhost:8080/"
        },
        "id": "Sf8kY30GGYoW",
        "outputId": "0f54370d-c796-4c4f-ce20-392964ced484"
      },
      "outputs": [
        {
          "output_type": "execute_result",
          "data": {
            "text/plain": [
              "array([ 1.        ,  0.        ,  0.        ,  0.        ,  0.        ,\n",
              "        1.        ,  0.        ,  0.        ,  0.91275857, -1.42309454,\n",
              "       -0.31610573,  1.0215275 ,  0.0301173 , -1.08342802,  1.69728962,\n",
              "       -0.21906004, -1.40507096, -0.59317052,  1.17371098, -1.41485164,\n",
              "       -1.69155204, -1.18068686, -0.39175117,  0.        ,  0.        ,\n",
              "        0.        ,  0.        ,  0.        ,  1.        ,  0.        ,\n",
              "        0.        ,  0.        ,  1.        ,  0.        ,  0.        ,\n",
              "        0.        ,  1.        ])"
            ]
          },
          "metadata": {},
          "execution_count": 20
        }
      ],
      "source": [
        "X_train[0]"
      ]
    },
    {
      "cell_type": "markdown",
      "metadata": {
        "id": "daGI_iijz7QI"
      },
      "source": [
        "## 2. Gradient Boosting models"
      ]
    },
    {
      "cell_type": "markdown",
      "metadata": {
        "id": "_14DhRFP0CT6"
      },
      "source": [
        "### Initialise result variables"
      ]
    },
    {
      "cell_type": "code",
      "execution_count": 21,
      "metadata": {
        "id": "Ecf-CR-10CT6"
      },
      "outputs": [],
      "source": [
        "gb_confusion_matrices = [] # confusion matrices\n",
        "gb_accuracies = [] # k-fold accuracies\n",
        "gb_one_accuracy = [] # accuracy on test set\n",
        "gb_models = [\"CatBoost\",\\\n",
        "             \"XGBoost\",\\\n",
        "             \"LightGBM\"\\\n",
        "            ]\n"
      ]
    },
    {
      "cell_type": "markdown",
      "metadata": {
        "id": "EQq8kaIVWCWe"
      },
      "source": [
        "### CatBoost"
      ]
    },
    {
      "cell_type": "markdown",
      "metadata": {
        "id": "9mN88WZuYmXq"
      },
      "source": [
        "#### Building and training the model"
      ]
    },
    {
      "cell_type": "markdown",
      "metadata": {
        "id": "E-wsRF2zYnGC"
      },
      "source": [
        "##### Building the model"
      ]
    },
    {
      "cell_type": "code",
      "execution_count": 22,
      "metadata": {
        "colab": {
          "base_uri": "https://localhost:8080/"
        },
        "id": "sjsRBfGbsiIA",
        "outputId": "26eb70e3-d1c4-4ba9-ef7c-175faeb746d8"
      },
      "outputs": [
        {
          "output_type": "stream",
          "name": "stdout",
          "text": [
            "Collecting catboost\n",
            "  Downloading catboost-1.2.7-cp310-cp310-manylinux2014_x86_64.whl.metadata (1.2 kB)\n",
            "Requirement already satisfied: graphviz in /usr/local/lib/python3.10/dist-packages (from catboost) (0.20.3)\n",
            "Requirement already satisfied: matplotlib in /usr/local/lib/python3.10/dist-packages (from catboost) (3.7.1)\n",
            "Requirement already satisfied: numpy<2.0,>=1.16.0 in /usr/local/lib/python3.10/dist-packages (from catboost) (1.26.4)\n",
            "Requirement already satisfied: pandas>=0.24 in /usr/local/lib/python3.10/dist-packages (from catboost) (2.1.4)\n",
            "Requirement already satisfied: scipy in /usr/local/lib/python3.10/dist-packages (from catboost) (1.13.1)\n",
            "Requirement already satisfied: plotly in /usr/local/lib/python3.10/dist-packages (from catboost) (5.24.1)\n",
            "Requirement already satisfied: six in /usr/local/lib/python3.10/dist-packages (from catboost) (1.16.0)\n",
            "Requirement already satisfied: python-dateutil>=2.8.2 in /usr/local/lib/python3.10/dist-packages (from pandas>=0.24->catboost) (2.8.2)\n",
            "Requirement already satisfied: pytz>=2020.1 in /usr/local/lib/python3.10/dist-packages (from pandas>=0.24->catboost) (2024.2)\n",
            "Requirement already satisfied: tzdata>=2022.1 in /usr/local/lib/python3.10/dist-packages (from pandas>=0.24->catboost) (2024.1)\n",
            "Requirement already satisfied: contourpy>=1.0.1 in /usr/local/lib/python3.10/dist-packages (from matplotlib->catboost) (1.3.0)\n",
            "Requirement already satisfied: cycler>=0.10 in /usr/local/lib/python3.10/dist-packages (from matplotlib->catboost) (0.12.1)\n",
            "Requirement already satisfied: fonttools>=4.22.0 in /usr/local/lib/python3.10/dist-packages (from matplotlib->catboost) (4.53.1)\n",
            "Requirement already satisfied: kiwisolver>=1.0.1 in /usr/local/lib/python3.10/dist-packages (from matplotlib->catboost) (1.4.7)\n",
            "Requirement already satisfied: packaging>=20.0 in /usr/local/lib/python3.10/dist-packages (from matplotlib->catboost) (24.1)\n",
            "Requirement already satisfied: pillow>=6.2.0 in /usr/local/lib/python3.10/dist-packages (from matplotlib->catboost) (10.4.0)\n",
            "Requirement already satisfied: pyparsing>=2.3.1 in /usr/local/lib/python3.10/dist-packages (from matplotlib->catboost) (3.1.4)\n",
            "Requirement already satisfied: tenacity>=6.2.0 in /usr/local/lib/python3.10/dist-packages (from plotly->catboost) (9.0.0)\n",
            "Downloading catboost-1.2.7-cp310-cp310-manylinux2014_x86_64.whl (98.7 MB)\n",
            "\u001b[2K   \u001b[90m━━━━━━━━━━━━━━━━━━━━━━━━━━━━━━━━━━━━━━━━\u001b[0m \u001b[32m98.7/98.7 MB\u001b[0m \u001b[31m7.8 MB/s\u001b[0m eta \u001b[36m0:00:00\u001b[0m\n",
            "\u001b[?25hInstalling collected packages: catboost\n",
            "Successfully installed catboost-1.2.7\n"
          ]
        }
      ],
      "source": [
        "!pip install catboost"
      ]
    },
    {
      "cell_type": "code",
      "execution_count": 23,
      "metadata": {
        "id": "nK2E8nk9siDA"
      },
      "outputs": [],
      "source": [
        "import catboost as cb\n",
        "model = cb.CatBoostClassifier(verbose = 0, random_state = my_random_state)\n",
        "#model = cb.CatBoostClassifier(verbose=0, task_type='GPU', random_state = my_random_state) # colab with GPU"
      ]
    },
    {
      "cell_type": "markdown",
      "metadata": {
        "id": "-rVZpyt7Y4qg"
      },
      "source": [
        "##### Training the model"
      ]
    },
    {
      "cell_type": "code",
      "execution_count": 24,
      "metadata": {
        "colab": {
          "base_uri": "https://localhost:8080/"
        },
        "id": "_7jpEuE5Y7V5",
        "outputId": "ad919fe3-4cb6-4ade-b946-228e5bbb42bc"
      },
      "outputs": [
        {
          "output_type": "execute_result",
          "data": {
            "text/plain": [
              "<catboost.core.CatBoostClassifier at 0x7e893a581cf0>"
            ]
          },
          "metadata": {},
          "execution_count": 24
        }
      ],
      "source": [
        "model.fit(X_train, y_train)"
      ]
    },
    {
      "cell_type": "markdown",
      "metadata": {
        "id": "otleXDFDZH11"
      },
      "source": [
        "#### Inference"
      ]
    },
    {
      "cell_type": "code",
      "execution_count": 25,
      "metadata": {
        "id": "u3LosbxwZIOk"
      },
      "outputs": [],
      "source": [
        "y_pred = model.predict(X_test)"
      ]
    },
    {
      "cell_type": "code",
      "execution_count": 26,
      "metadata": {
        "colab": {
          "base_uri": "https://localhost:8080/"
        },
        "id": "OWtIX2uuuom2",
        "outputId": "0e5d1409-a5b2-4954-de67-2d233701a944"
      },
      "outputs": [
        {
          "output_type": "execute_result",
          "data": {
            "text/plain": [
              "array([1, 1, 1, 1, 1, 0, 0, 0, 0, 1, 1, 1, 0, 0, 0, 0, 1, 0, 1, 0, 0, 1,\n",
              "       0, 0, 0, 1, 0, 0, 1, 0, 1, 0, 0, 0, 0, 1, 1, 0, 0, 0, 0, 1, 1, 1,\n",
              "       0, 1, 0, 1, 0, 1, 1, 1, 0, 0, 1, 0, 0, 1, 1, 1, 1, 0, 1, 0, 0, 1,\n",
              "       1, 0, 1, 1, 0, 0, 0, 0, 0, 1, 1, 0, 0, 0, 0, 1, 1, 0, 0, 0, 0, 1,\n",
              "       1, 1, 1, 1, 0, 1, 0, 0, 0, 0, 1, 1, 0, 0, 0, 0, 0, 1, 0, 0, 1, 0,\n",
              "       1, 0, 0, 0, 1, 0, 1, 0, 1, 1, 1, 0, 0, 0, 1, 0, 1, 1, 0, 0, 0, 0,\n",
              "       0, 0, 0, 1, 0, 0, 1, 0, 1, 0, 0, 1, 0, 0, 0, 0, 0, 1, 0, 0, 0, 0,\n",
              "       1, 0, 0, 0, 0, 1, 1, 0, 1, 0, 1, 0, 1, 0, 0, 0, 1, 0, 0, 0, 0, 1,\n",
              "       0, 1, 0, 0, 1, 0, 0, 1, 0, 0, 1, 0, 1, 0, 1, 0, 1, 0, 1, 0, 0, 1,\n",
              "       0, 0, 0, 1, 1, 0, 1, 0, 1, 1, 0, 1, 1, 0, 0, 0, 1, 0, 0, 0, 0, 1,\n",
              "       0, 0, 1, 1, 0, 1, 0, 0, 1, 0, 0, 1, 0, 0, 0, 0, 0, 1, 0, 0, 1, 0,\n",
              "       0, 0, 0, 0, 0, 0, 1, 0, 0, 0, 1, 1, 0, 0, 0, 1, 0, 1, 0, 0, 0, 1,\n",
              "       0, 0, 0, 0, 0, 0, 0, 0, 0, 0, 1, 0, 1, 1, 0, 0, 0, 0, 0, 1, 0, 0,\n",
              "       0, 0, 1, 1, 1, 1, 1, 0, 0, 0, 1, 0, 0, 1, 0, 1, 0, 0, 0, 0, 1, 0,\n",
              "       1, 0, 1, 0, 0, 0, 0, 0, 0, 0, 0, 1, 0, 1, 1, 1, 0, 0, 0, 1, 0, 0,\n",
              "       0, 0, 1, 0, 0, 0, 0, 0, 1, 0, 1, 1, 0, 0, 0, 1, 1, 0, 0, 1, 0, 0,\n",
              "       0, 1, 0, 1, 0, 0, 1, 0, 0, 0, 0, 0, 0, 1, 1, 1, 1, 1, 0, 0, 0, 0,\n",
              "       1, 1, 0, 0, 1, 1, 1, 0, 0, 0, 0, 1, 1, 1, 0, 0, 1, 1, 0, 0, 0, 0,\n",
              "       0, 1, 0, 1, 0, 1, 0, 0, 1, 0, 0, 1, 0, 0, 0, 1, 1, 0, 1, 1, 0, 0,\n",
              "       0, 0, 0, 0, 0, 0, 0, 0, 1, 0, 1, 0])"
            ]
          },
          "metadata": {},
          "execution_count": 26
        }
      ],
      "source": [
        "y_pred"
      ]
    },
    {
      "cell_type": "markdown",
      "metadata": {
        "id": "tJj5k2MxZga3"
      },
      "source": [
        "#### Evaluating the model"
      ]
    },
    {
      "cell_type": "markdown",
      "metadata": {
        "id": "o0oyfLWoaEGw"
      },
      "source": [
        "##### Making the Confusion Matrix"
      ]
    },
    {
      "cell_type": "code",
      "execution_count": 27,
      "metadata": {
        "id": "8gYcdMxHMlQU"
      },
      "outputs": [],
      "source": [
        "from sklearn.metrics import confusion_matrix, ConfusionMatrixDisplay\n",
        "cm = confusion_matrix(y_true=y_test, y_pred=y_pred)\n",
        "gb_confusion_matrices.append(cm)"
      ]
    },
    {
      "cell_type": "code",
      "execution_count": 28,
      "metadata": {
        "colab": {
          "base_uri": "https://localhost:8080/",
          "height": 466
        },
        "id": "pqyHsqMRMlQ-",
        "outputId": "25675246-88d0-4828-dd0e-edd58916d351"
      },
      "outputs": [
        {
          "output_type": "execute_result",
          "data": {
            "text/plain": [
              "<sklearn.metrics._plot.confusion_matrix.ConfusionMatrixDisplay at 0x7e893a580700>"
            ]
          },
          "metadata": {},
          "execution_count": 28
        },
        {
          "output_type": "display_data",
          "data": {
            "text/plain": [
              "<Figure size 640x480 with 2 Axes>"
            ],
            "image/png": "[encoded data removed]"
          },
          "metadata": {}
        }
      ],
      "source": [
        "cmd = ConfusionMatrixDisplay(cm)\n",
        "cmd.plot()"
      ]
    },
    {
      "cell_type": "markdown",
      "metadata": {
        "id": "eY1TTUpvN-xY"
      },
      "source": [
        "##### Accuracy of 0 model"
      ]
    },
    {
      "cell_type": "code",
      "execution_count": 29,
      "metadata": {
        "colab": {
          "base_uri": "https://localhost:8080/"
        },
        "id": "_4I6o2EHOFD7",
        "outputId": "bdff53eb-effd-4058-f345-c43431e42669"
      },
      "outputs": [
        {
          "output_type": "stream",
          "name": "stdout",
          "text": [
            "Accuracy of 0 model: 62.6%\n"
          ]
        }
      ],
      "source": [
        "monkey = 100*sum(cm[0])/cm.sum()\n",
        "print(\"Accuracy of 0 model: {:.1f}%\".format(monkey))"
      ]
    },
    {
      "cell_type": "markdown",
      "metadata": {
        "id": "0l_6GuspajAC"
      },
      "source": [
        "##### Accuracy"
      ]
    },
    {
      "cell_type": "code",
      "execution_count": 30,
      "metadata": {
        "colab": {
          "base_uri": "https://localhost:8080/"
        },
        "id": "FwpfnF5SaqlS",
        "outputId": "f31b5a53-63f1-434b-b794-b7b4037f0292"
      },
      "outputs": [
        {
          "output_type": "stream",
          "name": "stdout",
          "text": [
            "Accuracy on test set: 95.81%\n"
          ]
        }
      ],
      "source": [
        "from sklearn.metrics import accuracy_score\n",
        "acc = accuracy_score(y_true=y_test, y_pred=y_pred)\n",
        "print(\"Accuracy on test set: {:.2f}%\".format(acc*100))\n",
        "gb_one_accuracy.append(acc)"
      ]
    },
    {
      "cell_type": "markdown",
      "metadata": {
        "id": "6jn64zWSbiQg"
      },
      "source": [
        "##### k-Fold Cross Validation and Stratified"
      ]
    },
    {
      "cell_type": "code",
      "execution_count": 31,
      "metadata": {
        "id": "Ir-SXJJobmpi"
      },
      "outputs": [],
      "source": [
        "from sklearn.model_selection import cross_val_score\n",
        "kf_accs = cross_val_score(estimator=model,X=X_train, y=y_train, cv=kfold_cv)\n",
        "gb_accuracies.append(kf_accs)"
      ]
    },
    {
      "cell_type": "markdown",
      "metadata": {
        "id": "OK5M2KeFKpTo"
      },
      "source": [
        "###### Output"
      ]
    },
    {
      "cell_type": "code",
      "execution_count": 32,
      "metadata": {
        "colab": {
          "base_uri": "https://localhost:8080/"
        },
        "id": "Ze3U03r2x29-",
        "outputId": "46b4d028-d7e9-473f-d1ba-efadb82393a8"
      },
      "outputs": [
        {
          "output_type": "stream",
          "name": "stdout",
          "text": [
            "K-Fold Accuracy: 95.29 %\n",
            "Standard Deviation: 1.57 %\n",
            "[0.95348837 0.91860465 0.94186047 0.94767442 0.97674419 0.97093023\n",
            " 0.94767442 0.96511628 0.94767442 0.95906433]\n"
          ]
        }
      ],
      "source": [
        "print(\"K-Fold Accuracy: {:.2f} %\".format(kf_accs.mean()*100))\n",
        "print(\"Standard Deviation: {:.2f} %\".format(kf_accs.std()*100))\n",
        "print(kf_accs)"
      ]
    },
    {
      "cell_type": "markdown",
      "metadata": {
        "id": "ZZjvN1JfKK6G"
      },
      "source": [
        "### XGBoost"
      ]
    },
    {
      "cell_type": "markdown",
      "metadata": {
        "id": "kgxAeOrtQrKF"
      },
      "source": [
        "#### Building and Training the model"
      ]
    },
    {
      "cell_type": "markdown",
      "metadata": {
        "id": "0D0blHSQKK6I"
      },
      "source": [
        "##### Building the model"
      ]
    },
    {
      "cell_type": "code",
      "execution_count": 33,
      "metadata": {
        "id": "OM2EkDeFXKTd"
      },
      "outputs": [],
      "source": [
        "from xgboost import XGBClassifier\n",
        "model = XGBClassifier()"
      ]
    },
    {
      "cell_type": "markdown",
      "metadata": {
        "id": "0236TBmlKK6K"
      },
      "source": [
        "##### Training the model"
      ]
    },
    {
      "cell_type": "code",
      "execution_count": 34,
      "metadata": {
        "colab": {
          "base_uri": "https://localhost:8080/",
          "height": 254
        },
        "id": "R939AbkuXWi7",
        "outputId": "811d6b65-d3be-4d94-9114-3bca1d0c40f1"
      },
      "outputs": [
        {
          "output_type": "execute_result",
          "data": {
            "text/plain": [
              "XGBClassifier(base_score=None, booster=None, callbacks=None,\n",
              "              colsample_bylevel=None, colsample_bynode=None,\n",
              "              colsample_bytree=None, device=None, early_stopping_rounds=None,\n",
              "              enable_categorical=False, eval_metric=None, feature_types=None,\n",
              "              gamma=None, grow_policy=None, importance_type=None,\n",
              "              interaction_constraints=None, learning_rate=None, max_bin=None,\n",
              "              max_cat_threshold=None, max_cat_to_onehot=None,\n",
              "              max_delta_step=None, max_depth=None, max_leaves=None,\n",
              "              min_child_weight=None, missing=nan, monotone_constraints=None,\n",
              "              multi_strategy=None, n_estimators=None, n_jobs=None,\n",
              "              num_parallel_tree=None, random_state=None, ...)"
            ],
            "text/html": [
              "<style>#sk-container-id-1 {\n",
              "  /* Definition of color scheme common for light and dark mode */\n",
              "  --sklearn-color-text: black;\n",
              "  --sklearn-color-line: gray;\n",
              "  /* Definition of color scheme for unfitted estimators */\n",
              "  --sklearn-color-unfitted-level-0: #fff5e6;\n",
              "  --sklearn-color-unfitted-level-1: #f6e4d2;\n",
              "  --sklearn-color-unfitted-level-2: #ffe0b3;\n",
              "  --sklearn-color-unfitted-level-3: chocolate;\n",
              "  /* Definition of color scheme for fitted estimators */\n",
              "  --sklearn-color-fitted-level-0: #f0f8ff;\n",
              "  --sklearn-color-fitted-level-1: #d4ebff;\n",
              "  --sklearn-color-fitted-level-2: #b3dbfd;\n",
              "  --sklearn-color-fitted-level-3: cornflowerblue;\n",
              "\n",
              "  /* Specific color for light theme */\n",
              "  --sklearn-color-text-on-default-background: var(--sg-text-color, var(--theme-code-foreground, var(--jp-content-font-color1, black)));\n",
              "  --sklearn-color-background: var(--sg-background-color, var(--theme-background, var(--jp-layout-color0, white)));\n",
              "  --sklearn-color-border-box: var(--sg-text-color, var(--theme-code-foreground, var(--jp-content-font-color1, black)));\n",
              "  --sklearn-color-icon: #696969;\n",
              "\n",
              "  @media (prefers-color-scheme: dark) {\n",
              "    /* Redefinition of color scheme for dark theme */\n",
              "    --sklearn-color-text-on-default-background: var(--sg-text-color, var(--theme-code-foreground, var(--jp-content-font-color1, white)));\n",
              "    --sklearn-color-background: var(--sg-background-color, var(--theme-background, var(--jp-layout-color0, #111)));\n",
              "    --sklearn-color-border-box: var(--sg-text-color, var(--theme-code-foreground, var(--jp-content-font-color1, white)));\n",
              "    --sklearn-color-icon: #878787;\n",
              "  }\n",
              "}\n",
              "\n",
              "#sk-container-id-1 {\n",
              "  color: var(--sklearn-color-text);\n",
              "}\n",
              "\n",
              "#sk-container-id-1 pre {\n",
              "  padding: 0;\n",
              "}\n",
              "\n",
              "#sk-container-id-1 input.sk-hidden--visually {\n",
              "  border: 0;\n",
              "  clip: rect(1px 1px 1px 1px);\n",
              "  clip: rect(1px, 1px, 1px, 1px);\n",
              "  height: 1px;\n",
              "  margin: -1px;\n",
              "  overflow: hidden;\n",
              "  padding: 0;\n",
              "  position: absolute;\n",
              "  width: 1px;\n",
              "}\n",
              "\n",
              "#sk-container-id-1 div.sk-dashed-wrapped {\n",
              "  border: 1px dashed var(--sklearn-color-line);\n",
              "  margin: 0 0.4em 0.5em 0.4em;\n",
              "  box-sizing: border-box;\n",
              "  padding-bottom: 0.4em;\n",
              "  background-color: var(--sklearn-color-background);\n",
              "}\n",
              "\n",
              "#sk-container-id-1 div.sk-container {\n",
              "  /* jupyter's `normalize.less` sets `[hidden] { display: none; }`\n",
              "     but bootstrap.min.css set `[hidden] { display: none !important; }`\n",
              "     so we also need the `!important` here to be able to override the\n",
              "     default hidden behavior on the sphinx rendered scikit-learn.org.\n",
              "     See: https://github.com/scikit-learn/scikit-learn/issues/21755 */\n",
              "  display: inline-block !important;\n",
              "  position: relative;\n",
              "}\n",
              "\n",
              "#sk-container-id-1 div.sk-text-repr-fallback {\n",
              "  display: none;\n",
              "}\n",
              "\n",
              "div.sk-parallel-item,\n",
              "div.sk-serial,\n",
              "div.sk-item {\n",
              "  /* draw centered vertical line to link estimators */\n",
              "  background-image: linear-gradient(var(--sklearn-color-text-on-default-background), var(--sklearn-color-text-on-default-background));\n",
              "  background-size: 2px 100%;\n",
              "  background-repeat: no-repeat;\n",
              "  background-position: center center;\n",
              "}\n",
              "\n",
              "/* Parallel-specific style estimator block */\n",
              "\n",
              "#sk-container-id-1 div.sk-parallel-item::after {\n",
              "  content: \"\";\n",
              "  width: 100%;\n",
              "  border-bottom: 2px solid var(--sklearn-color-text-on-default-background);\n",
              "  flex-grow: 1;\n",
              "}\n",
              "\n",
              "#sk-container-id-1 div.sk-parallel {\n",
              "  display: flex;\n",
              "  align-items: stretch;\n",
              "  justify-content: center;\n",
              "  background-color: var(--sklearn-color-background);\n",
              "  position: relative;\n",
              "}\n",
              "\n",
              "#sk-container-id-1 div.sk-parallel-item {\n",
              "  display: flex;\n",
              "  flex-direction: column;\n",
              "}\n",
              "\n",
              "#sk-container-id-1 div.sk-parallel-item:first-child::after {\n",
              "  align-self: flex-end;\n",
              "  width: 50%;\n",
              "}\n",
              "\n",
              "#sk-container-id-1 div.sk-parallel-item:last-child::after {\n",
              "  align-self: flex-start;\n",
              "  width: 50%;\n",
              "}\n",
              "\n",
              "#sk-container-id-1 div.sk-parallel-item:only-child::after {\n",
              "  width: 0;\n",
              "}\n",
              "\n",
              "/* Serial-specific style estimator block */\n",
              "\n",
              "#sk-container-id-1 div.sk-serial {\n",
              "  display: flex;\n",
              "  flex-direction: column;\n",
              "  align-items: center;\n",
              "  background-color: var(--sklearn-color-background);\n",
              "  padding-right: 1em;\n",
              "  padding-left: 1em;\n",
              "}\n",
              "\n",
              "\n",
              "/* Toggleable style: style used for estimator/Pipeline/ColumnTransformer box that is\n",
              "clickable and can be expanded/collapsed.\n",
              "- Pipeline and ColumnTransformer use this feature and define the default style\n",
              "- Estimators will overwrite some part of the style using the `sk-estimator` class\n",
              "*/\n",
              "\n",
              "/* Pipeline and ColumnTransformer style (default) */\n",
              "\n",
              "#sk-container-id-1 div.sk-toggleable {\n",
              "  /* Default theme specific background. It is overwritten whether we have a\n",
              "  specific estimator or a Pipeline/ColumnTransformer */\n",
              "  background-color: var(--sklearn-color-background);\n",
              "}\n",
              "\n",
              "/* Toggleable label */\n",
              "#sk-container-id-1 label.sk-toggleable__label {\n",
              "  cursor: pointer;\n",
              "  display: block;\n",
              "  width: 100%;\n",
              "  margin-bottom: 0;\n",
              "  padding: 0.5em;\n",
              "  box-sizing: border-box;\n",
              "  text-align: center;\n",
              "}\n",
              "\n",
              "#sk-container-id-1 label.sk-toggleable__label-arrow:before {\n",
              "  /* Arrow on the left of the label */\n",
              "  content: \"▸\";\n",
              "  float: left;\n",
              "  margin-right: 0.25em;\n",
              "  color: var(--sklearn-color-icon);\n",
              "}\n",
              "\n",
              "#sk-container-id-1 label.sk-toggleable__label-arrow:hover:before {\n",
              "  color: var(--sklearn-color-text);\n",
              "}\n",
              "\n",
              "/* Toggleable content - dropdown */\n",
              "\n",
              "#sk-container-id-1 div.sk-toggleable__content {\n",
              "  max-height: 0;\n",
              "  max-width: 0;\n",
              "  overflow: hidden;\n",
              "  text-align: left;\n",
              "  /* unfitted */\n",
              "  background-color: var(--sklearn-color-unfitted-level-0);\n",
              "}\n",
              "\n",
              "#sk-container-id-1 div.sk-toggleable__content.fitted {\n",
              "  /* fitted */\n",
              "  background-color: var(--sklearn-color-fitted-level-0);\n",
              "}\n",
              "\n",
              "#sk-container-id-1 div.sk-toggleable__content pre {\n",
              "  margin: 0.2em;\n",
              "  border-radius: 0.25em;\n",
              "  color: var(--sklearn-color-text);\n",
              "  /* unfitted */\n",
              "  background-color: var(--sklearn-color-unfitted-level-0);\n",
              "}\n",
              "\n",
              "#sk-container-id-1 div.sk-toggleable__content.fitted pre {\n",
              "  /* unfitted */\n",
              "  background-color: var(--sklearn-color-fitted-level-0);\n",
              "}\n",
              "\n",
              "#sk-container-id-1 input.sk-toggleable__control:checked~div.sk-toggleable__content {\n",
              "  /* Expand drop-down */\n",
              "  max-height: 200px;\n",
              "  max-width: 100%;\n",
              "  overflow: auto;\n",
              "}\n",
              "\n",
              "#sk-container-id-1 input.sk-toggleable__control:checked~label.sk-toggleable__label-arrow:before {\n",
              "  content: \"▾\";\n",
              "}\n",
              "\n",
              "/* Pipeline/ColumnTransformer-specific style */\n",
              "\n",
              "#sk-container-id-1 div.sk-label input.sk-toggleable__control:checked~label.sk-toggleable__label {\n",
              "  color: var(--sklearn-color-text);\n",
              "  background-color: var(--sklearn-color-unfitted-level-2);\n",
              "}\n",
              "\n",
              "#sk-container-id-1 div.sk-label.fitted input.sk-toggleable__control:checked~label.sk-toggleable__label {\n",
              "  background-color: var(--sklearn-color-fitted-level-2);\n",
              "}\n",
              "\n",
              "/* Estimator-specific style */\n",
              "\n",
              "/* Colorize estimator box */\n",
              "#sk-container-id-1 div.sk-estimator input.sk-toggleable__control:checked~label.sk-toggleable__label {\n",
              "  /* unfitted */\n",
              "  background-color: var(--sklearn-color-unfitted-level-2);\n",
              "}\n",
              "\n",
              "#sk-container-id-1 div.sk-estimator.fitted input.sk-toggleable__control:checked~label.sk-toggleable__label {\n",
              "  /* fitted */\n",
              "  background-color: var(--sklearn-color-fitted-level-2);\n",
              "}\n",
              "\n",
              "#sk-container-id-1 div.sk-label label.sk-toggleable__label,\n",
              "#sk-container-id-1 div.sk-label label {\n",
              "  /* The background is the default theme color */\n",
              "  color: var(--sklearn-color-text-on-default-background);\n",
              "}\n",
              "\n",
              "/* On hover, darken the color of the background */\n",
              "#sk-container-id-1 div.sk-label:hover label.sk-toggleable__label {\n",
              "  color: var(--sklearn-color-text);\n",
              "  background-color: var(--sklearn-color-unfitted-level-2);\n",
              "}\n",
              "\n",
              "/* Label box, darken color on hover, fitted */\n",
              "#sk-container-id-1 div.sk-label.fitted:hover label.sk-toggleable__label.fitted {\n",
              "  color: var(--sklearn-color-text);\n",
              "  background-color: var(--sklearn-color-fitted-level-2);\n",
              "}\n",
              "\n",
              "/* Estimator label */\n",
              "\n",
              "#sk-container-id-1 div.sk-label label {\n",
              "  font-family: monospace;\n",
              "  font-weight: bold;\n",
              "  display: inline-block;\n",
              "  line-height: 1.2em;\n",
              "}\n",
              "\n",
              "#sk-container-id-1 div.sk-label-container {\n",
              "  text-align: center;\n",
              "}\n",
              "\n",
              "/* Estimator-specific */\n",
              "#sk-container-id-1 div.sk-estimator {\n",
              "  font-family: monospace;\n",
              "  border: 1px dotted var(--sklearn-color-border-box);\n",
              "  border-radius: 0.25em;\n",
              "  box-sizing: border-box;\n",
              "  margin-bottom: 0.5em;\n",
              "  /* unfitted */\n",
              "  background-color: var(--sklearn-color-unfitted-level-0);\n",
              "}\n",
              "\n",
              "#sk-container-id-1 div.sk-estimator.fitted {\n",
              "  /* fitted */\n",
              "  background-color: var(--sklearn-color-fitted-level-0);\n",
              "}\n",
              "\n",
              "/* on hover */\n",
              "#sk-container-id-1 div.sk-estimator:hover {\n",
              "  /* unfitted */\n",
              "  background-color: var(--sklearn-color-unfitted-level-2);\n",
              "}\n",
              "\n",
              "#sk-container-id-1 div.sk-estimator.fitted:hover {\n",
              "  /* fitted */\n",
              "  background-color: var(--sklearn-color-fitted-level-2);\n",
              "}\n",
              "\n",
              "/* Specification for estimator info (e.g. \"i\" and \"?\") */\n",
              "\n",
              "/* Common style for \"i\" and \"?\" */\n",
              "\n",
              ".sk-estimator-doc-link,\n",
              "a:link.sk-estimator-doc-link,\n",
              "a:visited.sk-estimator-doc-link {\n",
              "  float: right;\n",
              "  font-size: smaller;\n",
              "  line-height: 1em;\n",
              "  font-family: monospace;\n",
              "  background-color: var(--sklearn-color-background);\n",
              "  border-radius: 1em;\n",
              "  height: 1em;\n",
              "  width: 1em;\n",
              "  text-decoration: none !important;\n",
              "  margin-left: 1ex;\n",
              "  /* unfitted */\n",
              "  border: var(--sklearn-color-unfitted-level-1) 1pt solid;\n",
              "  color: var(--sklearn-color-unfitted-level-1);\n",
              "}\n",
              "\n",
              ".sk-estimator-doc-link.fitted,\n",
              "a:link.sk-estimator-doc-link.fitted,\n",
              "a:visited.sk-estimator-doc-link.fitted {\n",
              "  /* fitted */\n",
              "  border: var(--sklearn-color-fitted-level-1) 1pt solid;\n",
              "  color: var(--sklearn-color-fitted-level-1);\n",
              "}\n",
              "\n",
              "/* On hover */\n",
              "div.sk-estimator:hover .sk-estimator-doc-link:hover,\n",
              ".sk-estimator-doc-link:hover,\n",
              "div.sk-label-container:hover .sk-estimator-doc-link:hover,\n",
              ".sk-estimator-doc-link:hover {\n",
              "  /* unfitted */\n",
              "  background-color: var(--sklearn-color-unfitted-level-3);\n",
              "  color: var(--sklearn-color-background);\n",
              "  text-decoration: none;\n",
              "}\n",
              "\n",
              "div.sk-estimator.fitted:hover .sk-estimator-doc-link.fitted:hover,\n",
              ".sk-estimator-doc-link.fitted:hover,\n",
              "div.sk-label-container:hover .sk-estimator-doc-link.fitted:hover,\n",
              ".sk-estimator-doc-link.fitted:hover {\n",
              "  /* fitted */\n",
              "  background-color: var(--sklearn-color-fitted-level-3);\n",
              "  color: var(--sklearn-color-background);\n",
              "  text-decoration: none;\n",
              "}\n",
              "\n",
              "/* Span, style for the box shown on hovering the info icon */\n",
              ".sk-estimator-doc-link span {\n",
              "  display: none;\n",
              "  z-index: 9999;\n",
              "  position: relative;\n",
              "  font-weight: normal;\n",
              "  right: .2ex;\n",
              "  padding: .5ex;\n",
              "  margin: .5ex;\n",
              "  width: min-content;\n",
              "  min-width: 20ex;\n",
              "  max-width: 50ex;\n",
              "  color: var(--sklearn-color-text);\n",
              "  box-shadow: 2pt 2pt 4pt #999;\n",
              "  /* unfitted */\n",
              "  background: var(--sklearn-color-unfitted-level-0);\n",
              "  border: .5pt solid var(--sklearn-color-unfitted-level-3);\n",
              "}\n",
              "\n",
              ".sk-estimator-doc-link.fitted span {\n",
              "  /* fitted */\n",
              "  background: var(--sklearn-color-fitted-level-0);\n",
              "  border: var(--sklearn-color-fitted-level-3);\n",
              "}\n",
              "\n",
              ".sk-estimator-doc-link:hover span {\n",
              "  display: block;\n",
              "}\n",
              "\n",
              "/* \"?\"-specific style due to the `<a>` HTML tag */\n",
              "\n",
              "#sk-container-id-1 a.estimator_doc_link {\n",
              "  float: right;\n",
              "  font-size: 1rem;\n",
              "  line-height: 1em;\n",
              "  font-family: monospace;\n",
              "  background-color: var(--sklearn-color-background);\n",
              "  border-radius: 1rem;\n",
              "  height: 1rem;\n",
              "  width: 1rem;\n",
              "  text-decoration: none;\n",
              "  /* unfitted */\n",
              "  color: var(--sklearn-color-unfitted-level-1);\n",
              "  border: var(--sklearn-color-unfitted-level-1) 1pt solid;\n",
              "}\n",
              "\n",
              "#sk-container-id-1 a.estimator_doc_link.fitted {\n",
              "  /* fitted */\n",
              "  border: var(--sklearn-color-fitted-level-1) 1pt solid;\n",
              "  color: var(--sklearn-color-fitted-level-1);\n",
              "}\n",
              "\n",
              "/* On hover */\n",
              "#sk-container-id-1 a.estimator_doc_link:hover {\n",
              "  /* unfitted */\n",
              "  background-color: var(--sklearn-color-unfitted-level-3);\n",
              "  color: var(--sklearn-color-background);\n",
              "  text-decoration: none;\n",
              "}\n",
              "\n",
              "#sk-container-id-1 a.estimator_doc_link.fitted:hover {\n",
              "  /* fitted */\n",
              "  background-color: var(--sklearn-color-fitted-level-3);\n",
              "}\n",
              "</style><div id=\"sk-container-id-1\" class=\"sk-top-container\"><div class=\"sk-text-repr-fallback\"><pre>XGBClassifier(base_score=None, booster=None, callbacks=None,\n",
              "              colsample_bylevel=None, colsample_bynode=None,\n",
              "              colsample_bytree=None, device=None, early_stopping_rounds=None,\n",
              "              enable_categorical=False, eval_metric=None, feature_types=None,\n",
              "              gamma=None, grow_policy=None, importance_type=None,\n",
              "              interaction_constraints=None, learning_rate=None, max_bin=None,\n",
              "              max_cat_threshold=None, max_cat_to_onehot=None,\n",
              "              max_delta_step=None, max_depth=None, max_leaves=None,\n",
              "              min_child_weight=None, missing=nan, monotone_constraints=None,\n",
              "              multi_strategy=None, n_estimators=None, n_jobs=None,\n",
              "              num_parallel_tree=None, random_state=None, ...)</pre><b>In a Jupyter environment, please rerun this cell to show the HTML representation or trust the notebook. <br />On GitHub, the HTML representation is unable to render, please try loading this page with nbviewer.org.</b></div><div class=\"sk-container\" hidden><div class=\"sk-item\"><div class=\"sk-estimator fitted sk-toggleable\"><input class=\"sk-toggleable__control sk-hidden--visually\" id=\"sk-estimator-id-1\" type=\"checkbox\" checked><label for=\"sk-estimator-id-1\" class=\"sk-toggleable__label fitted sk-toggleable__label-arrow fitted\">&nbsp;XGBClassifier<span class=\"sk-estimator-doc-link fitted\">i<span>Fitted</span></span></label><div class=\"sk-toggleable__content fitted\"><pre>XGBClassifier(base_score=None, booster=None, callbacks=None,\n",
              "              colsample_bylevel=None, colsample_bynode=None,\n",
              "              colsample_bytree=None, device=None, early_stopping_rounds=None,\n",
              "              enable_categorical=False, eval_metric=None, feature_types=None,\n",
              "              gamma=None, grow_policy=None, importance_type=None,\n",
              "              interaction_constraints=None, learning_rate=None, max_bin=None,\n",
              "              max_cat_threshold=None, max_cat_to_onehot=None,\n",
              "              max_delta_step=None, max_depth=None, max_leaves=None,\n",
              "              min_child_weight=None, missing=nan, monotone_constraints=None,\n",
              "              multi_strategy=None, n_estimators=None, n_jobs=None,\n",
              "              num_parallel_tree=None, random_state=None, ...)</pre></div> </div></div></div></div>"
            ]
          },
          "metadata": {},
          "execution_count": 34
        }
      ],
      "source": [
        "model.fit(X_train, y_train)"
      ]
    },
    {
      "cell_type": "markdown",
      "metadata": {
        "id": "2xCfQgjCKK6M"
      },
      "source": [
        "#### Inference"
      ]
    },
    {
      "cell_type": "code",
      "execution_count": 35,
      "metadata": {
        "id": "9nNMS0kJXgIk"
      },
      "outputs": [],
      "source": [
        "y_pred = model.predict(X_test)"
      ]
    },
    {
      "cell_type": "markdown",
      "metadata": {
        "id": "v7SXifJeKpw2"
      },
      "source": [
        "#### Evaluating the model"
      ]
    },
    {
      "cell_type": "markdown",
      "metadata": {
        "id": "1Z7ou7-cKpw3"
      },
      "source": [
        "##### Making the Confusion Matrix"
      ]
    },
    {
      "cell_type": "code",
      "execution_count": 36,
      "metadata": {
        "id": "TG3PWDxYaLPR"
      },
      "outputs": [],
      "source": [
        "cm = confusion_matrix(y_true=y_test, y_pred=y_pred)\n",
        "gb_confusion_matrices.append(cm)"
      ]
    },
    {
      "cell_type": "code",
      "execution_count": 37,
      "metadata": {
        "colab": {
          "base_uri": "https://localhost:8080/",
          "height": 466
        },
        "id": "4rmNMg4fa-nl",
        "outputId": "b23eedb6-d935-49ae-a7b8-67369504cba3"
      },
      "outputs": [
        {
          "output_type": "execute_result",
          "data": {
            "text/plain": [
              "<sklearn.metrics._plot.confusion_matrix.ConfusionMatrixDisplay at 0x7e8918356080>"
            ]
          },
          "metadata": {},
          "execution_count": 37
        },
        {
          "output_type": "display_data",
          "data": {
            "text/plain": [
              "<Figure size 640x480 with 2 Axes>"
            ],
            "image/png": "[encoded data removed]"
          },
          "metadata": {}
        }
      ],
      "source": [
        "cmd = ConfusionMatrixDisplay(cm)\n",
        "cmd.plot()"
      ]
    },
    {
      "cell_type": "markdown",
      "metadata": {
        "id": "ApEv9hGuQIAK"
      },
      "source": [
        "##### Accuracy of 0 model"
      ]
    },
    {
      "cell_type": "code",
      "execution_count": 38,
      "metadata": {
        "colab": {
          "base_uri": "https://localhost:8080/"
        },
        "id": "NpZ5fGV0QIAx",
        "outputId": "3ed536f2-b4b2-41b9-b5db-3aa1657d29c7"
      },
      "outputs": [
        {
          "output_type": "stream",
          "name": "stdout",
          "text": [
            "Accuracy of 0 model: 62.6%\n"
          ]
        }
      ],
      "source": [
        "monkey = 100*sum(cm[0])/cm.sum()\n",
        "print(\"Accuracy of 0 model: {:.1f}%\".format(monkey))"
      ]
    },
    {
      "cell_type": "markdown",
      "metadata": {
        "id": "akrHomHKKpw6"
      },
      "source": [
        "##### Accuracy"
      ]
    },
    {
      "cell_type": "code",
      "execution_count": 39,
      "metadata": {
        "colab": {
          "base_uri": "https://localhost:8080/"
        },
        "id": "6XvvdyniaL9G",
        "outputId": "194702b6-8766-4779-ce95-770437ec687e"
      },
      "outputs": [
        {
          "output_type": "stream",
          "name": "stdout",
          "text": [
            "Accuracy on test set: 95.35%\n"
          ]
        }
      ],
      "source": [
        "acc = accuracy_score(y_true=y_test, y_pred=y_pred)\n",
        "print(\"Accuracy on test set: {:.2f}%\".format(acc*100))\n",
        "gb_one_accuracy.append(acc)"
      ]
    },
    {
      "cell_type": "markdown",
      "metadata": {
        "id": "krxvgNAmOv2u"
      },
      "source": [
        "##### k-Fold Cross Validation and Stratified"
      ]
    },
    {
      "cell_type": "code",
      "execution_count": 40,
      "metadata": {
        "id": "vZea5SQmOv3U"
      },
      "outputs": [],
      "source": [
        "kf_accs = cross_val_score(estimator=model,X=X_train, y=y_train, cv=kfold_cv)\n",
        "gb_accuracies.append(kf_accs)"
      ]
    },
    {
      "cell_type": "markdown",
      "metadata": {
        "id": "WJ1wLLq4Ov3V"
      },
      "source": [
        "###### Output"
      ]
    },
    {
      "cell_type": "code",
      "execution_count": 41,
      "metadata": {
        "colab": {
          "base_uri": "https://localhost:8080/"
        },
        "id": "vSw4RkvoOv3W",
        "outputId": "e6ac53b0-3a17-478b-c12f-f9e0cbdb8393"
      },
      "outputs": [
        {
          "output_type": "stream",
          "name": "stdout",
          "text": [
            "K-Fold Accuracy: 94.65 %\n",
            "Standard Deviation: 2.08 %\n",
            "[0.93023256 0.89534884 0.94186047 0.94767442 0.97674419 0.95930233\n",
            " 0.94767442 0.95930233 0.94767442 0.95906433]\n"
          ]
        }
      ],
      "source": [
        "print(\"K-Fold Accuracy: {:.2f} %\".format(kf_accs.mean()*100))\n",
        "print(\"Standard Deviation: {:.2f} %\".format(kf_accs.std()*100))\n",
        "print(kf_accs)"
      ]
    },
    {
      "cell_type": "markdown",
      "metadata": {
        "id": "-vMP1vG5PQ5o"
      },
      "source": [
        "### LightGBM"
      ]
    },
    {
      "cell_type": "markdown",
      "metadata": {
        "id": "asGvRnQ9QXAI"
      },
      "source": [
        "#### Building and Training the model"
      ]
    },
    {
      "cell_type": "markdown",
      "metadata": {
        "id": "Wzvhc3j8PUtu"
      },
      "source": [
        "##### Building the model"
      ]
    },
    {
      "cell_type": "code",
      "execution_count": 42,
      "metadata": {
        "id": "gYZrs8vj5Tjr",
        "outputId": "1db9519a-0706-4a30-d545-18ca6a76772b",
        "colab": {
          "base_uri": "https://localhost:8080/"
        }
      },
      "outputs": [
        {
          "output_type": "stream",
          "name": "stderr",
          "text": [
            "/usr/local/lib/python3.10/dist-packages/dask/dataframe/__init__.py:42: FutureWarning: \n",
            "Dask dataframe query planning is disabled because dask-expr is not installed.\n",
            "\n",
            "You can install it with `pip install dask[dataframe]` or `conda install dask`.\n",
            "This will raise in a future version.\n",
            "\n",
            "  warnings.warn(msg, FutureWarning)\n"
          ]
        }
      ],
      "source": [
        "import lightgbm\n",
        "model = lightgbm.LGBMClassifier(verbose=0, learning_rate=0.08, n_estimators=110, num_leaves=29, random_state = my_random_state )"
      ]
    },
    {
      "cell_type": "markdown",
      "metadata": {
        "id": "bpAn6XVaPUtw"
      },
      "source": [
        "##### Training the model"
      ]
    },
    {
      "cell_type": "code",
      "execution_count": 43,
      "metadata": {
        "colab": {
          "base_uri": "https://localhost:8080/",
          "height": 98
        },
        "id": "kEUoqOKIPUtx",
        "outputId": "dbf82f18-9f3d-4c15-ba7d-2d1255ea0410"
      },
      "outputs": [
        {
          "output_type": "execute_result",
          "data": {
            "text/plain": [
              "LGBMClassifier(learning_rate=0.08, n_estimators=110, num_leaves=29,\n",
              "               random_state=777, verbose=0)"
            ],
            "text/html": [
              "<style>#sk-container-id-2 {\n",
              "  /* Definition of color scheme common for light and dark mode */\n",
              "  --sklearn-color-text: black;\n",
              "  --sklearn-color-line: gray;\n",
              "  /* Definition of color scheme for unfitted estimators */\n",
              "  --sklearn-color-unfitted-level-0: #fff5e6;\n",
              "  --sklearn-color-unfitted-level-1: #f6e4d2;\n",
              "  --sklearn-color-unfitted-level-2: #ffe0b3;\n",
              "  --sklearn-color-unfitted-level-3: chocolate;\n",
              "  /* Definition of color scheme for fitted estimators */\n",
              "  --sklearn-color-fitted-level-0: #f0f8ff;\n",
              "  --sklearn-color-fitted-level-1: #d4ebff;\n",
              "  --sklearn-color-fitted-level-2: #b3dbfd;\n",
              "  --sklearn-color-fitted-level-3: cornflowerblue;\n",
              "\n",
              "  /* Specific color for light theme */\n",
              "  --sklearn-color-text-on-default-background: var(--sg-text-color, var(--theme-code-foreground, var(--jp-content-font-color1, black)));\n",
              "  --sklearn-color-background: var(--sg-background-color, var(--theme-background, var(--jp-layout-color0, white)));\n",
              "  --sklearn-color-border-box: var(--sg-text-color, var(--theme-code-foreground, var(--jp-content-font-color1, black)));\n",
              "  --sklearn-color-icon: #696969;\n",
              "\n",
              "  @media (prefers-color-scheme: dark) {\n",
              "    /* Redefinition of color scheme for dark theme */\n",
              "    --sklearn-color-text-on-default-background: var(--sg-text-color, var(--theme-code-foreground, var(--jp-content-font-color1, white)));\n",
              "    --sklearn-color-background: var(--sg-background-color, var(--theme-background, var(--jp-layout-color0, #111)));\n",
              "    --sklearn-color-border-box: var(--sg-text-color, var(--theme-code-foreground, var(--jp-content-font-color1, white)));\n",
              "    --sklearn-color-icon: #878787;\n",
              "  }\n",
              "}\n",
              "\n",
              "#sk-container-id-2 {\n",
              "  color: var(--sklearn-color-text);\n",
              "}\n",
              "\n",
              "#sk-container-id-2 pre {\n",
              "  padding: 0;\n",
              "}\n",
              "\n",
              "#sk-container-id-2 input.sk-hidden--visually {\n",
              "  border: 0;\n",
              "  clip: rect(1px 1px 1px 1px);\n",
              "  clip: rect(1px, 1px, 1px, 1px);\n",
              "  height: 1px;\n",
              "  margin: -1px;\n",
              "  overflow: hidden;\n",
              "  padding: 0;\n",
              "  position: absolute;\n",
              "  width: 1px;\n",
              "}\n",
              "\n",
              "#sk-container-id-2 div.sk-dashed-wrapped {\n",
              "  border: 1px dashed var(--sklearn-color-line);\n",
              "  margin: 0 0.4em 0.5em 0.4em;\n",
              "  box-sizing: border-box;\n",
              "  padding-bottom: 0.4em;\n",
              "  background-color: var(--sklearn-color-background);\n",
              "}\n",
              "\n",
              "#sk-container-id-2 div.sk-container {\n",
              "  /* jupyter's `normalize.less` sets `[hidden] { display: none; }`\n",
              "     but bootstrap.min.css set `[hidden] { display: none !important; }`\n",
              "     so we also need the `!important` here to be able to override the\n",
              "     default hidden behavior on the sphinx rendered scikit-learn.org.\n",
              "     See: https://github.com/scikit-learn/scikit-learn/issues/21755 */\n",
              "  display: inline-block !important;\n",
              "  position: relative;\n",
              "}\n",
              "\n",
              "#sk-container-id-2 div.sk-text-repr-fallback {\n",
              "  display: none;\n",
              "}\n",
              "\n",
              "div.sk-parallel-item,\n",
              "div.sk-serial,\n",
              "div.sk-item {\n",
              "  /* draw centered vertical line to link estimators */\n",
              "  background-image: linear-gradient(var(--sklearn-color-text-on-default-background), var(--sklearn-color-text-on-default-background));\n",
              "  background-size: 2px 100%;\n",
              "  background-repeat: no-repeat;\n",
              "  background-position: center center;\n",
              "}\n",
              "\n",
              "/* Parallel-specific style estimator block */\n",
              "\n",
              "#sk-container-id-2 div.sk-parallel-item::after {\n",
              "  content: \"\";\n",
              "  width: 100%;\n",
              "  border-bottom: 2px solid var(--sklearn-color-text-on-default-background);\n",
              "  flex-grow: 1;\n",
              "}\n",
              "\n",
              "#sk-container-id-2 div.sk-parallel {\n",
              "  display: flex;\n",
              "  align-items: stretch;\n",
              "  justify-content: center;\n",
              "  background-color: var(--sklearn-color-background);\n",
              "  position: relative;\n",
              "}\n",
              "\n",
              "#sk-container-id-2 div.sk-parallel-item {\n",
              "  display: flex;\n",
              "  flex-direction: column;\n",
              "}\n",
              "\n",
              "#sk-container-id-2 div.sk-parallel-item:first-child::after {\n",
              "  align-self: flex-end;\n",
              "  width: 50%;\n",
              "}\n",
              "\n",
              "#sk-container-id-2 div.sk-parallel-item:last-child::after {\n",
              "  align-self: flex-start;\n",
              "  width: 50%;\n",
              "}\n",
              "\n",
              "#sk-container-id-2 div.sk-parallel-item:only-child::after {\n",
              "  width: 0;\n",
              "}\n",
              "\n",
              "/* Serial-specific style estimator block */\n",
              "\n",
              "#sk-container-id-2 div.sk-serial {\n",
              "  display: flex;\n",
              "  flex-direction: column;\n",
              "  align-items: center;\n",
              "  background-color: var(--sklearn-color-background);\n",
              "  padding-right: 1em;\n",
              "  padding-left: 1em;\n",
              "}\n",
              "\n",
              "\n",
              "/* Toggleable style: style used for estimator/Pipeline/ColumnTransformer box that is\n",
              "clickable and can be expanded/collapsed.\n",
              "- Pipeline and ColumnTransformer use this feature and define the default style\n",
              "- Estimators will overwrite some part of the style using the `sk-estimator` class\n",
              "*/\n",
              "\n",
              "/* Pipeline and ColumnTransformer style (default) */\n",
              "\n",
              "#sk-container-id-2 div.sk-toggleable {\n",
              "  /* Default theme specific background. It is overwritten whether we have a\n",
              "  specific estimator or a Pipeline/ColumnTransformer */\n",
              "  background-color: var(--sklearn-color-background);\n",
              "}\n",
              "\n",
              "/* Toggleable label */\n",
              "#sk-container-id-2 label.sk-toggleable__label {\n",
              "  cursor: pointer;\n",
              "  display: block;\n",
              "  width: 100%;\n",
              "  margin-bottom: 0;\n",
              "  padding: 0.5em;\n",
              "  box-sizing: border-box;\n",
              "  text-align: center;\n",
              "}\n",
              "\n",
              "#sk-container-id-2 label.sk-toggleable__label-arrow:before {\n",
              "  /* Arrow on the left of the label */\n",
              "  content: \"▸\";\n",
              "  float: left;\n",
              "  margin-right: 0.25em;\n",
              "  color: var(--sklearn-color-icon);\n",
              "}\n",
              "\n",
              "#sk-container-id-2 label.sk-toggleable__label-arrow:hover:before {\n",
              "  color: var(--sklearn-color-text);\n",
              "}\n",
              "\n",
              "/* Toggleable content - dropdown */\n",
              "\n",
              "#sk-container-id-2 div.sk-toggleable__content {\n",
              "  max-height: 0;\n",
              "  max-width: 0;\n",
              "  overflow: hidden;\n",
              "  text-align: left;\n",
              "  /* unfitted */\n",
              "  background-color: var(--sklearn-color-unfitted-level-0);\n",
              "}\n",
              "\n",
              "#sk-container-id-2 div.sk-toggleable__content.fitted {\n",
              "  /* fitted */\n",
              "  background-color: var(--sklearn-color-fitted-level-0);\n",
              "}\n",
              "\n",
              "#sk-container-id-2 div.sk-toggleable__content pre {\n",
              "  margin: 0.2em;\n",
              "  border-radius: 0.25em;\n",
              "  color: var(--sklearn-color-text);\n",
              "  /* unfitted */\n",
              "  background-color: var(--sklearn-color-unfitted-level-0);\n",
              "}\n",
              "\n",
              "#sk-container-id-2 div.sk-toggleable__content.fitted pre {\n",
              "  /* unfitted */\n",
              "  background-color: var(--sklearn-color-fitted-level-0);\n",
              "}\n",
              "\n",
              "#sk-container-id-2 input.sk-toggleable__control:checked~div.sk-toggleable__content {\n",
              "  /* Expand drop-down */\n",
              "  max-height: 200px;\n",
              "  max-width: 100%;\n",
              "  overflow: auto;\n",
              "}\n",
              "\n",
              "#sk-container-id-2 input.sk-toggleable__control:checked~label.sk-toggleable__label-arrow:before {\n",
              "  content: \"▾\";\n",
              "}\n",
              "\n",
              "/* Pipeline/ColumnTransformer-specific style */\n",
              "\n",
              "#sk-container-id-2 div.sk-label input.sk-toggleable__control:checked~label.sk-toggleable__label {\n",
              "  color: var(--sklearn-color-text);\n",
              "  background-color: var(--sklearn-color-unfitted-level-2);\n",
              "}\n",
              "\n",
              "#sk-container-id-2 div.sk-label.fitted input.sk-toggleable__control:checked~label.sk-toggleable__label {\n",
              "  background-color: var(--sklearn-color-fitted-level-2);\n",
              "}\n",
              "\n",
              "/* Estimator-specific style */\n",
              "\n",
              "/* Colorize estimator box */\n",
              "#sk-container-id-2 div.sk-estimator input.sk-toggleable__control:checked~label.sk-toggleable__label {\n",
              "  /* unfitted */\n",
              "  background-color: var(--sklearn-color-unfitted-level-2);\n",
              "}\n",
              "\n",
              "#sk-container-id-2 div.sk-estimator.fitted input.sk-toggleable__control:checked~label.sk-toggleable__label {\n",
              "  /* fitted */\n",
              "  background-color: var(--sklearn-color-fitted-level-2);\n",
              "}\n",
              "\n",
              "#sk-container-id-2 div.sk-label label.sk-toggleable__label,\n",
              "#sk-container-id-2 div.sk-label label {\n",
              "  /* The background is the default theme color */\n",
              "  color: var(--sklearn-color-text-on-default-background);\n",
              "}\n",
              "\n",
              "/* On hover, darken the color of the background */\n",
              "#sk-container-id-2 div.sk-label:hover label.sk-toggleable__label {\n",
              "  color: var(--sklearn-color-text);\n",
              "  background-color: var(--sklearn-color-unfitted-level-2);\n",
              "}\n",
              "\n",
              "/* Label box, darken color on hover, fitted */\n",
              "#sk-container-id-2 div.sk-label.fitted:hover label.sk-toggleable__label.fitted {\n",
              "  color: var(--sklearn-color-text);\n",
              "  background-color: var(--sklearn-color-fitted-level-2);\n",
              "}\n",
              "\n",
              "/* Estimator label */\n",
              "\n",
              "#sk-container-id-2 div.sk-label label {\n",
              "  font-family: monospace;\n",
              "  font-weight: bold;\n",
              "  display: inline-block;\n",
              "  line-height: 1.2em;\n",
              "}\n",
              "\n",
              "#sk-container-id-2 div.sk-label-container {\n",
              "  text-align: center;\n",
              "}\n",
              "\n",
              "/* Estimator-specific */\n",
              "#sk-container-id-2 div.sk-estimator {\n",
              "  font-family: monospace;\n",
              "  border: 1px dotted var(--sklearn-color-border-box);\n",
              "  border-radius: 0.25em;\n",
              "  box-sizing: border-box;\n",
              "  margin-bottom: 0.5em;\n",
              "  /* unfitted */\n",
              "  background-color: var(--sklearn-color-unfitted-level-0);\n",
              "}\n",
              "\n",
              "#sk-container-id-2 div.sk-estimator.fitted {\n",
              "  /* fitted */\n",
              "  background-color: var(--sklearn-color-fitted-level-0);\n",
              "}\n",
              "\n",
              "/* on hover */\n",
              "#sk-container-id-2 div.sk-estimator:hover {\n",
              "  /* unfitted */\n",
              "  background-color: var(--sklearn-color-unfitted-level-2);\n",
              "}\n",
              "\n",
              "#sk-container-id-2 div.sk-estimator.fitted:hover {\n",
              "  /* fitted */\n",
              "  background-color: var(--sklearn-color-fitted-level-2);\n",
              "}\n",
              "\n",
              "/* Specification for estimator info (e.g. \"i\" and \"?\") */\n",
              "\n",
              "/* Common style for \"i\" and \"?\" */\n",
              "\n",
              ".sk-estimator-doc-link,\n",
              "a:link.sk-estimator-doc-link,\n",
              "a:visited.sk-estimator-doc-link {\n",
              "  float: right;\n",
              "  font-size: smaller;\n",
              "  line-height: 1em;\n",
              "  font-family: monospace;\n",
              "  background-color: var(--sklearn-color-background);\n",
              "  border-radius: 1em;\n",
              "  height: 1em;\n",
              "  width: 1em;\n",
              "  text-decoration: none !important;\n",
              "  margin-left: 1ex;\n",
              "  /* unfitted */\n",
              "  border: var(--sklearn-color-unfitted-level-1) 1pt solid;\n",
              "  color: var(--sklearn-color-unfitted-level-1);\n",
              "}\n",
              "\n",
              ".sk-estimator-doc-link.fitted,\n",
              "a:link.sk-estimator-doc-link.fitted,\n",
              "a:visited.sk-estimator-doc-link.fitted {\n",
              "  /* fitted */\n",
              "  border: var(--sklearn-color-fitted-level-1) 1pt solid;\n",
              "  color: var(--sklearn-color-fitted-level-1);\n",
              "}\n",
              "\n",
              "/* On hover */\n",
              "div.sk-estimator:hover .sk-estimator-doc-link:hover,\n",
              ".sk-estimator-doc-link:hover,\n",
              "div.sk-label-container:hover .sk-estimator-doc-link:hover,\n",
              ".sk-estimator-doc-link:hover {\n",
              "  /* unfitted */\n",
              "  background-color: var(--sklearn-color-unfitted-level-3);\n",
              "  color: var(--sklearn-color-background);\n",
              "  text-decoration: none;\n",
              "}\n",
              "\n",
              "div.sk-estimator.fitted:hover .sk-estimator-doc-link.fitted:hover,\n",
              ".sk-estimator-doc-link.fitted:hover,\n",
              "div.sk-label-container:hover .sk-estimator-doc-link.fitted:hover,\n",
              ".sk-estimator-doc-link.fitted:hover {\n",
              "  /* fitted */\n",
              "  background-color: var(--sklearn-color-fitted-level-3);\n",
              "  color: var(--sklearn-color-background);\n",
              "  text-decoration: none;\n",
              "}\n",
              "\n",
              "/* Span, style for the box shown on hovering the info icon */\n",
              ".sk-estimator-doc-link span {\n",
              "  display: none;\n",
              "  z-index: 9999;\n",
              "  position: relative;\n",
              "  font-weight: normal;\n",
              "  right: .2ex;\n",
              "  padding: .5ex;\n",
              "  margin: .5ex;\n",
              "  width: min-content;\n",
              "  min-width: 20ex;\n",
              "  max-width: 50ex;\n",
              "  color: var(--sklearn-color-text);\n",
              "  box-shadow: 2pt 2pt 4pt #999;\n",
              "  /* unfitted */\n",
              "  background: var(--sklearn-color-unfitted-level-0);\n",
              "  border: .5pt solid var(--sklearn-color-unfitted-level-3);\n",
              "}\n",
              "\n",
              ".sk-estimator-doc-link.fitted span {\n",
              "  /* fitted */\n",
              "  background: var(--sklearn-color-fitted-level-0);\n",
              "  border: var(--sklearn-color-fitted-level-3);\n",
              "}\n",
              "\n",
              ".sk-estimator-doc-link:hover span {\n",
              "  display: block;\n",
              "}\n",
              "\n",
              "/* \"?\"-specific style due to the `<a>` HTML tag */\n",
              "\n",
              "#sk-container-id-2 a.estimator_doc_link {\n",
              "  float: right;\n",
              "  font-size: 1rem;\n",
              "  line-height: 1em;\n",
              "  font-family: monospace;\n",
              "  background-color: var(--sklearn-color-background);\n",
              "  border-radius: 1rem;\n",
              "  height: 1rem;\n",
              "  width: 1rem;\n",
              "  text-decoration: none;\n",
              "  /* unfitted */\n",
              "  color: var(--sklearn-color-unfitted-level-1);\n",
              "  border: var(--sklearn-color-unfitted-level-1) 1pt solid;\n",
              "}\n",
              "\n",
              "#sk-container-id-2 a.estimator_doc_link.fitted {\n",
              "  /* fitted */\n",
              "  border: var(--sklearn-color-fitted-level-1) 1pt solid;\n",
              "  color: var(--sklearn-color-fitted-level-1);\n",
              "}\n",
              "\n",
              "/* On hover */\n",
              "#sk-container-id-2 a.estimator_doc_link:hover {\n",
              "  /* unfitted */\n",
              "  background-color: var(--sklearn-color-unfitted-level-3);\n",
              "  color: var(--sklearn-color-background);\n",
              "  text-decoration: none;\n",
              "}\n",
              "\n",
              "#sk-container-id-2 a.estimator_doc_link.fitted:hover {\n",
              "  /* fitted */\n",
              "  background-color: var(--sklearn-color-fitted-level-3);\n",
              "}\n",
              "</style><div id=\"sk-container-id-2\" class=\"sk-top-container\"><div class=\"sk-text-repr-fallback\"><pre>LGBMClassifier(learning_rate=0.08, n_estimators=110, num_leaves=29,\n",
              "               random_state=777, verbose=0)</pre><b>In a Jupyter environment, please rerun this cell to show the HTML representation or trust the notebook. <br />On GitHub, the HTML representation is unable to render, please try loading this page with nbviewer.org.</b></div><div class=\"sk-container\" hidden><div class=\"sk-item\"><div class=\"sk-estimator fitted sk-toggleable\"><input class=\"sk-toggleable__control sk-hidden--visually\" id=\"sk-estimator-id-2\" type=\"checkbox\" checked><label for=\"sk-estimator-id-2\" class=\"sk-toggleable__label fitted sk-toggleable__label-arrow fitted\">&nbsp;LGBMClassifier<span class=\"sk-estimator-doc-link fitted\">i<span>Fitted</span></span></label><div class=\"sk-toggleable__content fitted\"><pre>LGBMClassifier(learning_rate=0.08, n_estimators=110, num_leaves=29,\n",
              "               random_state=777, verbose=0)</pre></div> </div></div></div></div>"
            ]
          },
          "metadata": {},
          "execution_count": 43
        }
      ],
      "source": [
        "model.fit(X_train, y_train)"
      ]
    },
    {
      "cell_type": "markdown",
      "metadata": {
        "id": "xDqr88z7PUty"
      },
      "source": [
        "#### Inference"
      ]
    },
    {
      "cell_type": "code",
      "execution_count": 44,
      "metadata": {
        "id": "KQqik4qBPUty"
      },
      "outputs": [],
      "source": [
        "y_pred = model.predict(X_test)"
      ]
    },
    {
      "cell_type": "markdown",
      "metadata": {
        "id": "RrZvmaOXPiug"
      },
      "source": [
        "#### Evaluating the model"
      ]
    },
    {
      "cell_type": "markdown",
      "metadata": {
        "id": "y1nRzv49Piv5"
      },
      "source": [
        "##### Making the Confusion Matrix"
      ]
    },
    {
      "cell_type": "code",
      "execution_count": 45,
      "metadata": {
        "id": "EJenpqATPxcR"
      },
      "outputs": [],
      "source": [
        "cm = confusion_matrix(y_true=y_test, y_pred=y_pred)\n",
        "gb_confusion_matrices.append(cm)\n",
        "gb_one_accuracy.append(accuracy_score(y_test, y_pred))"
      ]
    },
    {
      "cell_type": "code",
      "execution_count": 46,
      "metadata": {
        "colab": {
          "base_uri": "https://localhost:8080/",
          "height": 466
        },
        "id": "uYFe6PtHPxc5",
        "outputId": "025dcc7a-5825-4627-9213-4cd5f3f2cc7f"
      },
      "outputs": [
        {
          "output_type": "execute_result",
          "data": {
            "text/plain": [
              "<sklearn.metrics._plot.confusion_matrix.ConfusionMatrixDisplay at 0x7e891201cb80>"
            ]
          },
          "metadata": {},
          "execution_count": 46
        },
        {
          "output_type": "display_data",
          "data": {
            "text/plain": [
              "<Figure size 640x480 with 2 Axes>"
            ],
            "image/png": "[encoded data removed]"
          },
          "metadata": {}
        }
      ],
      "source": [
        "cmd = ConfusionMatrixDisplay(cm)\n",
        "cmd.plot()"
      ]
    },
    {
      "cell_type": "markdown",
      "metadata": {
        "id": "1Dp3dHiUQK7c"
      },
      "source": [
        "##### Accuracy of 0 model"
      ]
    },
    {
      "cell_type": "code",
      "execution_count": 47,
      "metadata": {
        "colab": {
          "base_uri": "https://localhost:8080/"
        },
        "id": "Xoz9tpn9QK8D",
        "outputId": "055d4d36-0410-4f14-e659-a32fa0c06e0d"
      },
      "outputs": [
        {
          "output_type": "stream",
          "name": "stdout",
          "text": [
            "Accuracy of 0 model: 62.6%\n"
          ]
        }
      ],
      "source": [
        "monkey = 100*sum(cm[0])/cm.sum()\n",
        "print(\"Accuracy of 0 model: {:.1f}%\".format(monkey))"
      ]
    },
    {
      "cell_type": "markdown",
      "metadata": {
        "id": "uw2_2mbyPiv8"
      },
      "source": [
        "##### Accuracy"
      ]
    },
    {
      "cell_type": "code",
      "execution_count": 48,
      "metadata": {
        "colab": {
          "base_uri": "https://localhost:8080/"
        },
        "id": "x1BkCXaIPiv8",
        "outputId": "5b3e9732-862a-4028-ab41-4cf823e3fd65"
      },
      "outputs": [
        {
          "output_type": "stream",
          "name": "stdout",
          "text": [
            "Accuracy on test set: 95.35%\n"
          ]
        }
      ],
      "source": [
        "acc = accuracy_score(y_true=y_test, y_pred=y_pred)\n",
        "print(\"Accuracy on test set: {:.2f}%\".format(acc*100))\n",
        "gb_one_accuracy.append(acc)"
      ]
    },
    {
      "cell_type": "markdown",
      "metadata": {
        "id": "zbPxpRn6PKwe"
      },
      "source": [
        "##### k-Fold Cross Validation and Stratified"
      ]
    },
    {
      "cell_type": "code",
      "execution_count": 49,
      "metadata": {
        "id": "MPkhmRpMPKxN"
      },
      "outputs": [],
      "source": [
        "kf_accs = cross_val_score(estimator=model,X=X_train, y=y_train, cv=kfold_cv)\n",
        "gb_accuracies.append(kf_accs)"
      ]
    },
    {
      "cell_type": "markdown",
      "metadata": {
        "id": "wIwfKUQ_PKxO"
      },
      "source": [
        "###### Output"
      ]
    },
    {
      "cell_type": "code",
      "execution_count": 50,
      "metadata": {
        "colab": {
          "base_uri": "https://localhost:8080/"
        },
        "id": "OLhMXf-jPKxP",
        "outputId": "fd7ba1cf-389e-466e-a583-b8fe53285ef9"
      },
      "outputs": [
        {
          "output_type": "stream",
          "name": "stdout",
          "text": [
            "K-Fold Accuracy: 94.82 %\n",
            "Standard Deviation: 1.90 %\n",
            "[0.94186047 0.90697674 0.94186047 0.94186047 0.98255814 0.97093023\n",
            " 0.94767442 0.95348837 0.94186047 0.95321637]\n"
          ]
        }
      ],
      "source": [
        "print(\"K-Fold Accuracy: {:.2f} %\".format(kf_accs.mean()*100))\n",
        "print(\"Standard Deviation: {:.2f} %\".format(kf_accs.std()*100))\n",
        "print(kf_accs)"
      ]
    },
    {
      "cell_type": "markdown",
      "metadata": {
        "id": "cyD0aXkDyT-r"
      },
      "source": [
        "## 3. Comparing Gradient Boosting models"
      ]
    },
    {
      "cell_type": "markdown",
      "metadata": {
        "id": "FZCvcDl32Z2x"
      },
      "source": [
        "### Confusion Matrices"
      ]
    },
    {
      "cell_type": "code",
      "execution_count": 51,
      "metadata": {
        "colab": {
          "base_uri": "https://localhost:8080/"
        },
        "id": "c3MrZHTh2Z2y",
        "outputId": "1d08521f-ce5b-4325-f435-d8b6a1cbd5f6"
      },
      "outputs": [
        {
          "output_type": "stream",
          "name": "stdout",
          "text": [
            "Confusion Matrices\n",
            "\n",
            "CatBoost\n",
            "[[262   7]\n",
            " [ 11 150]]\n",
            "XGBoost\n",
            "[[263   6]\n",
            " [ 14 147]]\n",
            "LightGBM\n",
            "[[260   9]\n",
            " [ 11 150]]\n"
          ]
        }
      ],
      "source": [
        "print(\"Confusion Matrices\\n\")\n",
        "for i in range(len(gb_models)):\n",
        "  print(gb_models[i])\n",
        "  print(gb_confusion_matrices[i])"
      ]
    },
    {
      "cell_type": "markdown",
      "metadata": {
        "id": "tTwZyZFq2Z2z"
      },
      "source": [
        "### Test Set Accuracy scores"
      ]
    },
    {
      "cell_type": "code",
      "execution_count": 52,
      "metadata": {
        "colab": {
          "base_uri": "https://localhost:8080/"
        },
        "id": "HLBvV2Nv2Z2z",
        "outputId": "9aeff4c4-b7ec-4239-87ed-eea16056e078"
      },
      "outputs": [
        {
          "output_type": "stream",
          "name": "stdout",
          "text": [
            "Accuracy Scores\n",
            "\n",
            "CatBoost                  95.81%\n",
            "XGBoost                   95.35%\n",
            "LightGBM                  95.35%\n"
          ]
        }
      ],
      "source": [
        "print(\"Accuracy Scores\\n\")\n",
        "for i in range(len(gb_models)):\n",
        "  print(gb_models[i].ljust(25), \"{:.2f}%\".format(gb_one_accuracy[i]*100))"
      ]
    },
    {
      "cell_type": "markdown",
      "metadata": {
        "id": "Pjf43xf72Z2z"
      },
      "source": [
        "### K-Fold Validation Accuracies"
      ]
    },
    {
      "cell_type": "code",
      "execution_count": 53,
      "metadata": {
        "colab": {
          "base_uri": "https://localhost:8080/"
        },
        "id": "BcZVdoOj2Z20",
        "outputId": "f01c848c-3f49-4393-9ac8-88a308f3924d"
      },
      "outputs": [
        {
          "output_type": "stream",
          "name": "stdout",
          "text": [
            "K-Fold Validation\n",
            "\n",
            "CatBoost                  Accuracy: 95.29% Standard Deviation: 1.57%\n",
            "XGBoost                   Accuracy: 94.65% Standard Deviation: 2.08%\n",
            "LightGBM                  Accuracy: 94.82% Standard Deviation: 1.90%\n"
          ]
        }
      ],
      "source": [
        "print(\"K-Fold Validation\\n\")\n",
        "for i in range(len(gb_models)):\n",
        "  print(gb_models[i].ljust(25), \"Accuracy: {:.2f}% Standard Deviation: {:.2f}%\".format(gb_accuracies[i].mean()*100, gb_accuracies[i].std()*100))"
      ]
    },
    {
      "cell_type": "markdown",
      "metadata": {
        "id": "d0aRLUk9_67r"
      },
      "source": [
        "**CatBoost gives the highest accuracy so do grid search using CatBoost to find best parameters**"
      ]
    },
    {
      "cell_type": "markdown",
      "metadata": {
        "id": "Ays1rDXTRWTL"
      },
      "source": [
        "## 4. Test with compact 5 feature dataset"
      ]
    },
    {
      "cell_type": "markdown",
      "metadata": {
        "id": "WMu3UTh6RWTL"
      },
      "source": [
        "### Initialise compact dataset"
      ]
    },
    {
      "cell_type": "code",
      "execution_count": 54,
      "metadata": {
        "id": "O5AVouGMRWTM",
        "outputId": "69857c75-09ca-4a25-e780-b33e8b987319",
        "colab": {
          "base_uri": "https://localhost:8080/",
          "height": 206
        }
      },
      "outputs": [
        {
          "output_type": "execute_result",
          "data": {
            "text/plain": [
              "   FunctionalAssessment       ADL       MMSE  MemoryComplaints  \\\n",
              "0              6.518877  1.725883  21.463532                 0   \n",
              "1              7.118696  2.592424  20.613267                 0   \n",
              "2              5.895077  7.119548   7.356249                 0   \n",
              "3              8.965106  6.481226  13.991127                 0   \n",
              "4              6.045039  0.014691  13.517609                 0   \n",
              "\n",
              "   BehavioralProblems  Diagnosis  \n",
              "0                   0          0  \n",
              "1                   0          0  \n",
              "2                   0          0  \n",
              "3                   1          0  \n",
              "4                   0          0  "
            ],
            "text/html": [
              "\n",
              "  <div id=\"df-9bd999c1-b8bb-4cb5-a1d5-4375963b34b6\" class=\"colab-df-container\">\n",
              "    <div>\n",
              "<style scoped>\n",
              "    .dataframe tbody tr th:only-of-type {\n",
              "        vertical-align: middle;\n",
              "    }\n",
              "\n",
              "    .dataframe tbody tr th {\n",
              "        vertical-align: top;\n",
              "    }\n",
              "\n",
              "    .dataframe thead th {\n",
              "        text-align: right;\n",
              "    }\n",
              "</style>\n",
              "<table border=\"1\" class=\"dataframe\">\n",
              "  <thead>\n",
              "    <tr style=\"text-align: right;\">\n",
              "      <th></th>\n",
              "      <th>FunctionalAssessment</th>\n",
              "      <th>ADL</th>\n",
              "      <th>MMSE</th>\n",
              "      <th>MemoryComplaints</th>\n",
              "      <th>BehavioralProblems</th>\n",
              "      <th>Diagnosis</th>\n",
              "    </tr>\n",
              "  </thead>\n",
              "  <tbody>\n",
              "    <tr>\n",
              "      <th>0</th>\n",
              "      <td>6.518877</td>\n",
              "      <td>1.725883</td>\n",
              "      <td>21.463532</td>\n",
              "      <td>0</td>\n",
              "      <td>0</td>\n",
              "      <td>0</td>\n",
              "    </tr>\n",
              "    <tr>\n",
              "      <th>1</th>\n",
              "      <td>7.118696</td>\n",
              "      <td>2.592424</td>\n",
              "      <td>20.613267</td>\n",
              "      <td>0</td>\n",
              "      <td>0</td>\n",
              "      <td>0</td>\n",
              "    </tr>\n",
              "    <tr>\n",
              "      <th>2</th>\n",
              "      <td>5.895077</td>\n",
              "      <td>7.119548</td>\n",
              "      <td>7.356249</td>\n",
              "      <td>0</td>\n",
              "      <td>0</td>\n",
              "      <td>0</td>\n",
              "    </tr>\n",
              "    <tr>\n",
              "      <th>3</th>\n",
              "      <td>8.965106</td>\n",
              "      <td>6.481226</td>\n",
              "      <td>13.991127</td>\n",
              "      <td>0</td>\n",
              "      <td>1</td>\n",
              "      <td>0</td>\n",
              "    </tr>\n",
              "    <tr>\n",
              "      <th>4</th>\n",
              "      <td>6.045039</td>\n",
              "      <td>0.014691</td>\n",
              "      <td>13.517609</td>\n",
              "      <td>0</td>\n",
              "      <td>0</td>\n",
              "      <td>0</td>\n",
              "    </tr>\n",
              "  </tbody>\n",
              "</table>\n",
              "</div>\n",
              "    <div class=\"colab-df-buttons\">\n",
              "\n",
              "  <div class=\"colab-df-container\">\n",
              "    <button class=\"colab-df-convert\" onclick=\"convertToInteractive('df-9bd999c1-b8bb-4cb5-a1d5-4375963b34b6')\"\n",
              "            title=\"Convert this dataframe to an interactive table.\"\n",
              "            style=\"display:none;\">\n",
              "\n",
              "  <svg xmlns=\"http://www.w3.org/2000/svg\" height=\"24px\" viewBox=\"0 -960 960 960\">\n",
              "    <path d=\"M120-120v-720h720v720H120Zm60-500h600v-160H180v160Zm220 220h160v-160H400v160Zm0 220h160v-160H400v160ZM180-400h160v-160H180v160Zm440 0h160v-160H620v160ZM180-180h160v-160H180v160Zm440 0h160v-160H620v160Z\"/>\n",
              "  </svg>\n",
              "    </button>\n",
              "\n",
              "  <style>\n",
              "    .colab-df-container {\n",
              "      display:flex;\n",
              "      gap: 12px;\n",
              "    }\n",
              "\n",
              "    .colab-df-convert {\n",
              "      background-color: #E8F0FE;\n",
              "      border: none;\n",
              "      border-radius: 50%;\n",
              "      cursor: pointer;\n",
              "      display: none;\n",
              "      fill: #1967D2;\n",
              "      height: 32px;\n",
              "      padding: 0 0 0 0;\n",
              "      width: 32px;\n",
              "    }\n",
              "\n",
              "    .colab-df-convert:hover {\n",
              "      background-color: #E2EBFA;\n",
              "      box-shadow: 0px 1px 2px rgba(60, 64, 67, 0.3), 0px 1px 3px 1px rgba(60, 64, 67, 0.15);\n",
              "      fill: #174EA6;\n",
              "    }\n",
              "\n",
              "    .colab-df-buttons div {\n",
              "      margin-bottom: 4px;\n",
              "    }\n",
              "\n",
              "    [theme=dark] .colab-df-convert {\n",
              "      background-color: #3B4455;\n",
              "      fill: #D2E3FC;\n",
              "    }\n",
              "\n",
              "    [theme=dark] .colab-df-convert:hover {\n",
              "      background-color: #434B5C;\n",
              "      box-shadow: 0px 1px 3px 1px rgba(0, 0, 0, 0.15);\n",
              "      filter: drop-shadow(0px 1px 2px rgba(0, 0, 0, 0.3));\n",
              "      fill: #FFFFFF;\n",
              "    }\n",
              "  </style>\n",
              "\n",
              "    <script>\n",
              "      const buttonEl =\n",
              "        document.querySelector('#df-9bd999c1-b8bb-4cb5-a1d5-4375963b34b6 button.colab-df-convert');\n",
              "      buttonEl.style.display =\n",
              "        google.colab.kernel.accessAllowed ? 'block' : 'none';\n",
              "\n",
              "      async function convertToInteractive(key) {\n",
              "        const element = document.querySelector('#df-9bd999c1-b8bb-4cb5-a1d5-4375963b34b6');\n",
              "        const dataTable =\n",
              "          await google.colab.kernel.invokeFunction('convertToInteractive',\n",
              "                                                    [key], {});\n",
              "        if (!dataTable) return;\n",
              "\n",
              "        const docLinkHtml = 'Like what you see? Visit the ' +\n",
              "          '<a target=\"_blank\" href=https://colab.research.google.com/notebooks/data_table.ipynb>data table notebook</a>'\n",
              "          + ' to learn more about interactive tables.';\n",
              "        element.innerHTML = '';\n",
              "        dataTable['output_type'] = 'display_data';\n",
              "        await google.colab.output.renderOutput(dataTable, element);\n",
              "        const docLink = document.createElement('div');\n",
              "        docLink.innerHTML = docLinkHtml;\n",
              "        element.appendChild(docLink);\n",
              "      }\n",
              "    </script>\n",
              "  </div>\n",
              "\n",
              "\n",
              "<div id=\"df-3be2e98f-de8c-4328-890b-42e6ec2ad8e9\">\n",
              "  <button class=\"colab-df-quickchart\" onclick=\"quickchart('df-3be2e98f-de8c-4328-890b-42e6ec2ad8e9')\"\n",
              "            title=\"Suggest charts\"\n",
              "            style=\"display:none;\">\n",
              "\n",
              "<svg xmlns=\"http://www.w3.org/2000/svg\" height=\"24px\"viewBox=\"0 0 24 24\"\n",
              "     width=\"24px\">\n",
              "    <g>\n",
              "        <path d=\"M19 3H5c-1.1 0-2 .9-2 2v14c0 1.1.9 2 2 2h14c1.1 0 2-.9 2-2V5c0-1.1-.9-2-2-2zM9 17H7v-7h2v7zm4 0h-2V7h2v10zm4 0h-2v-4h2v4z\"/>\n",
              "    </g>\n",
              "</svg>\n",
              "  </button>\n",
              "\n",
              "<style>\n",
              "  .colab-df-quickchart {\n",
              "      --bg-color: #E8F0FE;\n",
              "      --fill-color: #1967D2;\n",
              "      --hover-bg-color: #E2EBFA;\n",
              "      --hover-fill-color: #174EA6;\n",
              "      --disabled-fill-color: #AAA;\n",
              "      --disabled-bg-color: #DDD;\n",
              "  }\n",
              "\n",
              "  [theme=dark] .colab-df-quickchart {\n",
              "      --bg-color: #3B4455;\n",
              "      --fill-color: #D2E3FC;\n",
              "      --hover-bg-color: #434B5C;\n",
              "      --hover-fill-color: #FFFFFF;\n",
              "      --disabled-bg-color: #3B4455;\n",
              "      --disabled-fill-color: #666;\n",
              "  }\n",
              "\n",
              "  .colab-df-quickchart {\n",
              "    background-color: var(--bg-color);\n",
              "    border: none;\n",
              "    border-radius: 50%;\n",
              "    cursor: pointer;\n",
              "    display: none;\n",
              "    fill: var(--fill-color);\n",
              "    height: 32px;\n",
              "    padding: 0;\n",
              "    width: 32px;\n",
              "  }\n",
              "\n",
              "  .colab-df-quickchart:hover {\n",
              "    background-color: var(--hover-bg-color);\n",
              "    box-shadow: 0 1px 2px rgba(60, 64, 67, 0.3), 0 1px 3px 1px rgba(60, 64, 67, 0.15);\n",
              "    fill: var(--button-hover-fill-color);\n",
              "  }\n",
              "\n",
              "  .colab-df-quickchart-complete:disabled,\n",
              "  .colab-df-quickchart-complete:disabled:hover {\n",
              "    background-color: var(--disabled-bg-color);\n",
              "    fill: var(--disabled-fill-color);\n",
              "    box-shadow: none;\n",
              "  }\n",
              "\n",
              "  .colab-df-spinner {\n",
              "    border: 2px solid var(--fill-color);\n",
              "    border-color: transparent;\n",
              "    border-bottom-color: var(--fill-color);\n",
              "    animation:\n",
              "      spin 1s steps(1) infinite;\n",
              "  }\n",
              "\n",
              "  @keyframes spin {\n",
              "    0% {\n",
              "      border-color: transparent;\n",
              "      border-bottom-color: var(--fill-color);\n",
              "      border-left-color: var(--fill-color);\n",
              "    }\n",
              "    20% {\n",
              "      border-color: transparent;\n",
              "      border-left-color: var(--fill-color);\n",
              "      border-top-color: var(--fill-color);\n",
              "    }\n",
              "    30% {\n",
              "      border-color: transparent;\n",
              "      border-left-color: var(--fill-color);\n",
              "      border-top-color: var(--fill-color);\n",
              "      border-right-color: var(--fill-color);\n",
              "    }\n",
              "    40% {\n",
              "      border-color: transparent;\n",
              "      border-right-color: var(--fill-color);\n",
              "      border-top-color: var(--fill-color);\n",
              "    }\n",
              "    60% {\n",
              "      border-color: transparent;\n",
              "      border-right-color: var(--fill-color);\n",
              "    }\n",
              "    80% {\n",
              "      border-color: transparent;\n",
              "      border-right-color: var(--fill-color);\n",
              "      border-bottom-color: var(--fill-color);\n",
              "    }\n",
              "    90% {\n",
              "      border-color: transparent;\n",
              "      border-bottom-color: var(--fill-color);\n",
              "    }\n",
              "  }\n",
              "</style>\n",
              "\n",
              "  <script>\n",
              "    async function quickchart(key) {\n",
              "      const quickchartButtonEl =\n",
              "        document.querySelector('#' + key + ' button');\n",
              "      quickchartButtonEl.disabled = true;  // To prevent multiple clicks.\n",
              "      quickchartButtonEl.classList.add('colab-df-spinner');\n",
              "      try {\n",
              "        const charts = await google.colab.kernel.invokeFunction(\n",
              "            'suggestCharts', [key], {});\n",
              "      } catch (error) {\n",
              "        console.error('Error during call to suggestCharts:', error);\n",
              "      }\n",
              "      quickchartButtonEl.classList.remove('colab-df-spinner');\n",
              "      quickchartButtonEl.classList.add('colab-df-quickchart-complete');\n",
              "    }\n",
              "    (() => {\n",
              "      let quickchartButtonEl =\n",
              "        document.querySelector('#df-3be2e98f-de8c-4328-890b-42e6ec2ad8e9 button');\n",
              "      quickchartButtonEl.style.display =\n",
              "        google.colab.kernel.accessAllowed ? 'block' : 'none';\n",
              "    })();\n",
              "  </script>\n",
              "</div>\n",
              "\n",
              "    </div>\n",
              "  </div>\n"
            ],
            "application/vnd.google.colaboratory.intrinsic+json": {
              "type": "dataframe",
              "variable_name": "compact_df",
              "summary": "{\n  \"name\": \"compact_df\",\n  \"rows\": 2149,\n  \"fields\": [\n    {\n      \"column\": \"FunctionalAssessment\",\n      \"properties\": {\n        \"dtype\": \"number\",\n        \"std\": 2.892743474170947,\n        \"min\": 0.000459593595804,\n        \"max\": 9.996467072555015,\n        \"num_unique_values\": 2149,\n        \"samples\": [\n          7.307850829651147,\n          3.170979919083389,\n          9.013686448833637\n        ],\n        \"semantic_type\": \"\",\n        \"description\": \"\"\n      }\n    },\n    {\n      \"column\": \"ADL\",\n      \"properties\": {\n        \"dtype\": \"number\",\n        \"std\": 2.9497747993689742,\n        \"min\": 0.0012879277024868,\n        \"max\": 9.99974712180168,\n        \"num_unique_values\": 2149,\n        \"samples\": [\n          6.800702841611061,\n          7.388050134616232,\n          6.166283278363618\n        ],\n        \"semantic_type\": \"\",\n        \"description\": \"\"\n      }\n    },\n    {\n      \"column\": \"MMSE\",\n      \"properties\": {\n        \"dtype\": \"number\",\n        \"std\": 8.613151282098933,\n        \"min\": 0.0053121464417005,\n        \"max\": 29.991380560529063,\n        \"num_unique_values\": 2149,\n        \"samples\": [\n          14.48864071302017,\n          14.200630848821229,\n          10.811238697003482\n        ],\n        \"semantic_type\": \"\",\n        \"description\": \"\"\n      }\n    },\n    {\n      \"column\": \"MemoryComplaints\",\n      \"properties\": {\n        \"dtype\": \"number\",\n        \"std\": 0,\n        \"min\": 0,\n        \"max\": 1,\n        \"num_unique_values\": 2,\n        \"samples\": [\n          1,\n          0\n        ],\n        \"semantic_type\": \"\",\n        \"description\": \"\"\n      }\n    },\n    {\n      \"column\": \"BehavioralProblems\",\n      \"properties\": {\n        \"dtype\": \"number\",\n        \"std\": 0,\n        \"min\": 0,\n        \"max\": 1,\n        \"num_unique_values\": 2,\n        \"samples\": [\n          1,\n          0\n        ],\n        \"semantic_type\": \"\",\n        \"description\": \"\"\n      }\n    },\n    {\n      \"column\": \"Diagnosis\",\n      \"properties\": {\n        \"dtype\": \"number\",\n        \"std\": 0,\n        \"min\": 0,\n        \"max\": 1,\n        \"num_unique_values\": 2,\n        \"samples\": [\n          1,\n          0\n        ],\n        \"semantic_type\": \"\",\n        \"description\": \"\"\n      }\n    }\n  ]\n}"
            }
          },
          "metadata": {},
          "execution_count": 54
        }
      ],
      "source": [
        "compact_df = dataset[compact_columns]\n",
        "compact_df.head()"
      ]
    },
    {
      "cell_type": "markdown",
      "metadata": {
        "id": "KkQVdVHvRWTM"
      },
      "source": [
        "### Extract Xc and Yc"
      ]
    },
    {
      "cell_type": "code",
      "execution_count": 55,
      "metadata": {
        "id": "lDq626upRWTM"
      },
      "outputs": [],
      "source": [
        "#Extract Xc and Yc\n",
        "Xc = compact_df.iloc[:,:-1].values\n",
        "yc = compact_df.iloc[:, -1].values"
      ]
    },
    {
      "cell_type": "markdown",
      "metadata": {
        "id": "lQoHPZp0RWTM"
      },
      "source": [
        "### Get training and test sets"
      ]
    },
    {
      "cell_type": "code",
      "execution_count": 56,
      "metadata": {
        "id": "yp8H21ckRWTN",
        "outputId": "a66e5fef-c419-48b1-a28d-50651d890617",
        "colab": {
          "base_uri": "https://localhost:8080/"
        }
      },
      "outputs": [
        {
          "output_type": "execute_result",
          "data": {
            "text/plain": [
              "array([[-1.18068686, -0.39175117, -1.69155204,  0.        ,  1.        ],\n",
              "       [ 1.29726256,  0.70248361, -0.01016152,  0.        ,  0.        ],\n",
              "       [-1.43987674,  0.25734477,  1.08093767,  0.        ,  0.        ],\n",
              "       ...,\n",
              "       [ 1.66165346,  0.51379755, -0.4723082 ,  0.        ,  0.        ],\n",
              "       [-0.86361253, -1.52810515, -0.64071635,  0.        ,  1.        ],\n",
              "       [ 0.47016968,  1.25678085,  1.62282808,  1.        ,  0.        ]])"
            ]
          },
          "metadata": {},
          "execution_count": 56
        }
      ],
      "source": [
        "# Splitting the dataset into the Training set and Test set\n",
        "from sklearn.model_selection import train_test_split\n",
        "Xc_train, Xc_test, yc_train, yc_test = train_test_split(Xc, yc, test_size=0.2, random_state = my_random_state)\n",
        "# With Feature scaling\n",
        "sc_compact = StandardScaler()\n",
        "Xc_train[:, 0:3] = sc_compact.fit_transform(Xc_train[:, 0:3])\n",
        "Xc_test[:, 0:3] = sc_compact.transform(Xc_test[:, 0:3])\n",
        "# Xc_train\n",
        "# Xc_train = sc_compact.fit_transform(Xc_train)\n",
        "# Xc_test = sc_compact.transform(Xc_test)\n",
        "Xc_train"
      ]
    },
    {
      "cell_type": "markdown",
      "metadata": {
        "id": "wgc10YbhRWTN"
      },
      "source": [
        "### Create, fit and predict model"
      ]
    },
    {
      "cell_type": "code",
      "execution_count": 57,
      "metadata": {
        "id": "0Z5kkNGFRWTN"
      },
      "outputs": [],
      "source": [
        "import catboost as cb\n",
        "model = cb.CatBoostClassifier(verbose = 0, random_state = my_random_state)\n",
        "model.fit(Xc_train, yc_train)\n",
        "yc_pred = model.predict(Xc_test)"
      ]
    },
    {
      "cell_type": "markdown",
      "metadata": {
        "id": "9Nz5UR_5RWTN"
      },
      "source": [
        "### Confusion Matrix"
      ]
    },
    {
      "cell_type": "code",
      "execution_count": 58,
      "metadata": {
        "id": "fChfYqhFRWTO",
        "outputId": "2470803c-12d8-419d-f5fe-2811835d0b1a",
        "colab": {
          "base_uri": "https://localhost:8080/",
          "height": 466
        }
      },
      "outputs": [
        {
          "output_type": "execute_result",
          "data": {
            "text/plain": [
              "<sklearn.metrics._plot.confusion_matrix.ConfusionMatrixDisplay at 0x7e891822f490>"
            ]
          },
          "metadata": {},
          "execution_count": 58
        },
        {
          "output_type": "display_data",
          "data": {
            "text/plain": [
              "<Figure size 640x480 with 2 Axes>"
            ],
            "image/png": "[encoded data removed]"
          },
          "metadata": {}
        }
      ],
      "source": [
        "from sklearn.metrics import confusion_matrix, ConfusionMatrixDisplay\n",
        "cm = confusion_matrix(y_true=yc_test, y_pred=yc_pred)\n",
        "cmd = ConfusionMatrixDisplay(cm)\n",
        "cmd.plot()"
      ]
    },
    {
      "cell_type": "markdown",
      "metadata": {
        "id": "zs1qZjctRWTO"
      },
      "source": [
        "### Test set accuracy"
      ]
    },
    {
      "cell_type": "code",
      "execution_count": 59,
      "metadata": {
        "id": "uo3mnSadRWTO",
        "outputId": "38fbf963-4729-4abc-f8b3-efc584d82481",
        "colab": {
          "base_uri": "https://localhost:8080/"
        }
      },
      "outputs": [
        {
          "output_type": "stream",
          "name": "stdout",
          "text": [
            "Accuracy on test set: 95.58%\n"
          ]
        }
      ],
      "source": [
        "from sklearn.metrics import accuracy_score\n",
        "acc = accuracy_score(y_true=yc_test, y_pred=yc_pred)\n",
        "print(\"Accuracy on test set: {:.2f}%\".format(acc*100))"
      ]
    },
    {
      "cell_type": "markdown",
      "metadata": {
        "id": "N57xNVW9RWTO"
      },
      "source": [
        "### K-fold cross validation"
      ]
    },
    {
      "cell_type": "code",
      "execution_count": 60,
      "metadata": {
        "id": "3RYc-Un_RWTP"
      },
      "outputs": [],
      "source": [
        "from sklearn.model_selection import cross_val_score\n",
        "kf_accs = cross_val_score(estimator=model,X=Xc_train, y=yc_train, cv=kfold_cv)"
      ]
    },
    {
      "cell_type": "code",
      "execution_count": 61,
      "metadata": {
        "id": "yHHj--qjRWTP",
        "outputId": "7a139b52-06d2-4ed4-99c8-fce0df1f945a",
        "colab": {
          "base_uri": "https://localhost:8080/"
        }
      },
      "outputs": [
        {
          "output_type": "stream",
          "name": "stdout",
          "text": [
            "K-Fold Accuracy: 95.23 %\n",
            "Standard Deviation: 1.76 %\n",
            "[0.95348837 0.9127907  0.94186047 0.94767442 0.97674419 0.97674419\n",
            " 0.94767442 0.95348837 0.94767442 0.96491228]\n"
          ]
        }
      ],
      "source": [
        "print(\"K-Fold Accuracy: {:.2f} %\".format(kf_accs.mean()*100))\n",
        "print(\"Standard Deviation: {:.2f} %\".format(kf_accs.std()*100))\n",
        "print(kf_accs)"
      ]
    },
    {
      "cell_type": "markdown",
      "metadata": {
        "id": "BBbDYlqS_7Q-"
      },
      "source": [
        "## 5. Grid Search - optimise chosen model hyperparameters"
      ]
    },
    {
      "cell_type": "code",
      "execution_count": null,
      "metadata": {
        "id": "ytZuzp0s_7Q_"
      },
      "outputs": [],
      "source": [
        "# Tune the CatBoost model with the following hyperparameters. The hyperparameters that have the greatest effect on optimizing the CatBoost evaluation metrics are: learning_rate, depth, l2_leaf_reg, and random_strength. For a list of all the CatBoost hyperparameters, see CatBoost hyperparameters.\n",
        "\n",
        "# Parameter Name\tParameter Type\tRecommended Ranges\n",
        "# learning_rate\tContinuousParameterRanges\tMinValue: 0.01, MaxValue: 0.1\n",
        "# depth\tIntegerParameterRanges\tMinValue: 4, MaxValue: 10\n",
        "# l2_leaf_reg\tIntegerParameterRanges\tMinValue: 2, MaxValue: 10\n",
        "# random_strength\tContinuousParameterRanges\tMinValue: 0, MaxValue: 10\n"
      ]
    },
    {
      "cell_type": "code",
      "execution_count": null,
      "metadata": {
        "id": "yfChd33M_7RA"
      },
      "outputs": [],
      "source": [
        "import catboost as cb\n",
        "from sklearn.model_selection import GridSearchCV\n",
        "model = cb.CatBoostClassifier(verbose = 0, random_state = my_random_state)\n",
        "model.fit(Xc_train, yc_train)\n",
        "parameters = [{'learning_rate' : [0.04, 0.05, 0.06],\\\n",
        "               'depth' : [8, 9],\n",
        "               'l2_leaf_reg' : [2, 4],\n",
        "               'random_strength' : [0, 0.5]}]\n",
        "\n",
        "# parameters = [{'learning_rate' : [0.006, 0.007, 0.008, 0.009], # initially 0.01, 0.03\n",
        "#                'depth' : [8, 9, 10], # initially 4, 10\n",
        "#                'l2_leaf_reg' : [2, 3], # initially 2,6\n",
        "#                'random_strength' : [0, 0.5]}] # initially 0,4\n",
        "grid_search = GridSearchCV(estimator = model,\n",
        "                           param_grid = parameters,\n",
        "                           scoring = 'accuracy',\n",
        "                           cv = kfold_cv,\n",
        "                           n_jobs = -1)"
      ]
    },
    {
      "cell_type": "code",
      "execution_count": null,
      "metadata": {
        "id": "_A4d0BBt_7RA"
      },
      "outputs": [],
      "source": [
        "# The long bit\n",
        "grid_search.fit(Xc_train, yc_train)"
      ]
    },
    {
      "cell_type": "code",
      "execution_count": null,
      "metadata": {
        "id": "_wZ1MeFQ_7RB"
      },
      "outputs": [],
      "source": [
        "best_accuracy = grid_search.best_score_\n",
        "best_parameters = grid_search.best_params_\n",
        "print(\"Best Accuracy: {:.2f} %\".format(best_accuracy*100))\n",
        "print(\"Best Parameters:\", best_parameters)"
      ]
    },
    {
      "cell_type": "markdown",
      "metadata": {
        "id": "F_ugDE9L_7RB"
      },
      "source": [
        "Best Accuracy: 95.80%\n",
        "\n",
        "Best Parameters: {'depth': 10, 'l2_leaf_reg': 2, 'learning_rate': 0.01, 'random_strength': 0}"
      ]
    },
    {
      "cell_type": "markdown",
      "metadata": {
        "id": "F2dYnc_X_-cL"
      },
      "source": [
        "### Rerun test set accuracy"
      ]
    },
    {
      "cell_type": "markdown",
      "metadata": {
        "id": "6oo9m_6IaAua"
      },
      "source": [
        "With best parameters from grid search"
      ]
    },
    {
      "cell_type": "code",
      "source": [
        "best_parameters = {'depth': 10, 'l2_leaf_reg': 2, 'learning_rate': 0.01, 'random_strength': 0}"
      ],
      "metadata": {
        "id": "aSIyInOgj1R1"
      },
      "execution_count": 68,
      "outputs": []
    },
    {
      "cell_type": "code",
      "execution_count": 69,
      "metadata": {
        "id": "yKqbDMGY_7RC",
        "outputId": "e06672cb-6142-47e9-8e6f-c0dadd99cbc3",
        "colab": {
          "base_uri": "https://localhost:8080/"
        }
      },
      "outputs": [
        {
          "output_type": "stream",
          "name": "stdout",
          "text": [
            "Accuracy: 95.81%\n",
            "Mean Accuracy: 95.30%\n",
            "Standard Deviation: 1.09%\n"
          ]
        }
      ],
      "source": [
        "from sklearn.model_selection import StratifiedKFold\n",
        "skf = StratifiedKFold(n_splits=kfold_cv, shuffle = True, random_state=my_random_state)\n",
        "\n",
        "model = cb.CatBoostClassifier(l2_leaf_reg = best_parameters['l2_leaf_reg'], \\\n",
        "                             learning_rate = best_parameters['learning_rate'], \\\n",
        "                             depth = best_parameters['depth'], \\\n",
        "                             random_strength = best_parameters['random_strength'],\\\n",
        "                             random_state = my_random_state,\\\n",
        "                             verbose=0)\n",
        "model.fit(Xc_train, yc_train)\n",
        "yc_pred = model.predict(Xc_test)\n",
        "accuracy = accuracy_score(yc_test, yc_pred)\n",
        "print(\"Accuracy: {:.2f}%\".format(accuracy*100))\n",
        "# accs = cross_val_score(estimator = model, X = X, y = y, cv=kfold_cv, scoring='accuracy')\n",
        "accs = cross_val_score(estimator = model,\n",
        "                             X = Xc,\n",
        "                             y = yc,\n",
        "                             scoring = 'accuracy',\n",
        "                             cv = skf)\n",
        "print(\"Mean Accuracy: {:.2f}%\".format(accs.mean()*100))\n",
        "print(\"Standard Deviation: {:.2f}%\".format(accs.std()*100))"
      ]
    },
    {
      "cell_type": "code",
      "source": [
        "print(accs)"
      ],
      "metadata": {
        "id": "ZkBFOf-Gu7fw",
        "outputId": "86e12c8a-039d-4d57-9e4c-9d89d6813e81",
        "colab": {
          "base_uri": "https://localhost:8080/"
        }
      },
      "execution_count": 70,
      "outputs": [
        {
          "output_type": "stream",
          "name": "stdout",
          "text": [
            "[0.96744186 0.94418605 0.95348837 0.96744186 0.95813953 0.96744186\n",
            " 0.93953488 0.94883721 0.93953488 0.94392523]\n"
          ]
        }
      ]
    }
  ],
  "metadata": {
    "colab": {
      "provenance": []
    },
    "kernelspec": {
      "display_name": "Python 3 (ipykernel)",
      "language": "python",
      "name": "python3"
    },
    "language_info": {
      "codemirror_mode": {
        "name": "ipython",
        "version": 3
      },
      "file_extension": ".py",
      "mimetype": "text/x-python",
      "name": "python",
      "nbconvert_exporter": "python",
      "pygments_lexer": "ipython3",
      "version": "3.10.12"
    }
  },
  "nbformat": 4,
  "nbformat_minor": 0
}